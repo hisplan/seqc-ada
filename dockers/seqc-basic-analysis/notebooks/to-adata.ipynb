{
 "cells": [
  {
   "cell_type": "code",
   "execution_count": 1,
   "metadata": {
    "ExecuteTime": {
     "end_time": "2021-07-09T16:31:00.798937Z",
     "start_time": "2021-07-09T16:30:58.827356Z"
    }
   },
   "outputs": [],
   "source": [
    "import scanpy as sc\n",
    "import pandas as pd\n",
    "import scipy.io\n",
    "import os"
   ]
  },
  {
   "cell_type": "markdown",
   "metadata": {},
   "source": [
    "# Parameters"
   ]
  },
  {
   "cell_type": "code",
   "execution_count": 2,
   "metadata": {
    "ExecuteTime": {
     "end_time": "2021-07-09T16:31:00.804249Z",
     "start_time": "2021-07-09T16:31:00.801353Z"
    },
    "tags": [
     "parameters"
    ]
   },
   "outputs": [],
   "source": [
    "# This parameters cell will be overridden by values specified at execution time.\n",
    "path_data = \"../test\"\n",
    "path_out = \"../test\"\n",
    "sample_name = \"test\""
   ]
  },
  {
   "cell_type": "code",
   "execution_count": 3,
   "metadata": {
    "ExecuteTime": {
     "end_time": "2021-07-09T16:31:00.942792Z",
     "start_time": "2021-07-09T16:31:00.807749Z"
    }
   },
   "outputs": [
    {
     "name": "stdout",
     "output_type": "stream",
     "text": [
      "test.doublet-score.pickle       test_sparse_counts_barcodes.csv\r\n",
      "test.doublets.pickle            test_sparse_counts_genes.csv\r\n",
      "test.filtered.h5ad              test_sparse_molecule_counts.mtx\r\n",
      "test.raw.h5ad                   test_sparse_read_counts.mtx\r\n",
      "test_dense.csv\r\n"
     ]
    }
   ],
   "source": [
    "!ls $path_data"
   ]
  },
  {
   "cell_type": "markdown",
   "metadata": {},
   "source": [
    "# Dense Count Matrix"
   ]
  },
  {
   "cell_type": "markdown",
   "metadata": {},
   "source": [
    "## Load"
   ]
  },
  {
   "cell_type": "code",
   "execution_count": 4,
   "metadata": {
    "ExecuteTime": {
     "end_time": "2021-07-09T16:31:01.183328Z",
     "start_time": "2021-07-09T16:31:00.945595Z"
    }
   },
   "outputs": [
    {
     "data": {
      "text/html": [
       "<div>\n",
       "<style scoped>\n",
       "    .dataframe tbody tr th:only-of-type {\n",
       "        vertical-align: middle;\n",
       "    }\n",
       "\n",
       "    .dataframe tbody tr th {\n",
       "        vertical-align: top;\n",
       "    }\n",
       "\n",
       "    .dataframe thead th {\n",
       "        text-align: right;\n",
       "    }\n",
       "</style>\n",
       "<table border=\"1\" class=\"dataframe\">\n",
       "  <thead>\n",
       "    <tr style=\"text-align: right;\">\n",
       "      <th></th>\n",
       "      <th>CLUSTER</th>\n",
       "      <th>ARHGAP33</th>\n",
       "      <th>UPF1</th>\n",
       "      <th>SPPL2B</th>\n",
       "      <th>C19ORF60</th>\n",
       "      <th>TBXA2R</th>\n",
       "      <th>PAF1</th>\n",
       "      <th>MARK4</th>\n",
       "      <th>CCDC124</th>\n",
       "      <th>CEACAM21</th>\n",
       "      <th>...</th>\n",
       "      <th>AC026803.1</th>\n",
       "      <th>METAZOA_SRP.6</th>\n",
       "      <th>SEPT14P19</th>\n",
       "      <th>CTD-3113P16.11</th>\n",
       "      <th>LLNLF-173C4.2</th>\n",
       "      <th>WASH5P</th>\n",
       "      <th>LINC01002</th>\n",
       "      <th>AC008993.2</th>\n",
       "      <th>BISPR</th>\n",
       "      <th>LLNLR-245B6.1</th>\n",
       "    </tr>\n",
       "  </thead>\n",
       "  <tbody>\n",
       "    <tr>\n",
       "      <th>120703436113835</th>\n",
       "      <td>0</td>\n",
       "      <td>0</td>\n",
       "      <td>0</td>\n",
       "      <td>0</td>\n",
       "      <td>0</td>\n",
       "      <td>0</td>\n",
       "      <td>0</td>\n",
       "      <td>0</td>\n",
       "      <td>0</td>\n",
       "      <td>0</td>\n",
       "      <td>...</td>\n",
       "      <td>0</td>\n",
       "      <td>0</td>\n",
       "      <td>0</td>\n",
       "      <td>0</td>\n",
       "      <td>0</td>\n",
       "      <td>0</td>\n",
       "      <td>0</td>\n",
       "      <td>0</td>\n",
       "      <td>0</td>\n",
       "      <td>0</td>\n",
       "    </tr>\n",
       "    <tr>\n",
       "      <th>120703436351717</th>\n",
       "      <td>1</td>\n",
       "      <td>0</td>\n",
       "      <td>0</td>\n",
       "      <td>0</td>\n",
       "      <td>0</td>\n",
       "      <td>0</td>\n",
       "      <td>0</td>\n",
       "      <td>0</td>\n",
       "      <td>0</td>\n",
       "      <td>0</td>\n",
       "      <td>...</td>\n",
       "      <td>0</td>\n",
       "      <td>0</td>\n",
       "      <td>0</td>\n",
       "      <td>0</td>\n",
       "      <td>0</td>\n",
       "      <td>0</td>\n",
       "      <td>0</td>\n",
       "      <td>0</td>\n",
       "      <td>0</td>\n",
       "      <td>0</td>\n",
       "    </tr>\n",
       "    <tr>\n",
       "      <th>120726897253220</th>\n",
       "      <td>0</td>\n",
       "      <td>0</td>\n",
       "      <td>0</td>\n",
       "      <td>0</td>\n",
       "      <td>0</td>\n",
       "      <td>0</td>\n",
       "      <td>0</td>\n",
       "      <td>0</td>\n",
       "      <td>0</td>\n",
       "      <td>0</td>\n",
       "      <td>...</td>\n",
       "      <td>0</td>\n",
       "      <td>0</td>\n",
       "      <td>0</td>\n",
       "      <td>0</td>\n",
       "      <td>0</td>\n",
       "      <td>0</td>\n",
       "      <td>0</td>\n",
       "      <td>0</td>\n",
       "      <td>0</td>\n",
       "      <td>0</td>\n",
       "    </tr>\n",
       "    <tr>\n",
       "      <th>120769892956524</th>\n",
       "      <td>0</td>\n",
       "      <td>0</td>\n",
       "      <td>0</td>\n",
       "      <td>0</td>\n",
       "      <td>0</td>\n",
       "      <td>0</td>\n",
       "      <td>0</td>\n",
       "      <td>0</td>\n",
       "      <td>0</td>\n",
       "      <td>0</td>\n",
       "      <td>...</td>\n",
       "      <td>0</td>\n",
       "      <td>0</td>\n",
       "      <td>0</td>\n",
       "      <td>0</td>\n",
       "      <td>0</td>\n",
       "      <td>0</td>\n",
       "      <td>0</td>\n",
       "      <td>0</td>\n",
       "      <td>0</td>\n",
       "      <td>0</td>\n",
       "    </tr>\n",
       "    <tr>\n",
       "      <th>120778570709861</th>\n",
       "      <td>0</td>\n",
       "      <td>0</td>\n",
       "      <td>0</td>\n",
       "      <td>0</td>\n",
       "      <td>0</td>\n",
       "      <td>0</td>\n",
       "      <td>0</td>\n",
       "      <td>0</td>\n",
       "      <td>0</td>\n",
       "      <td>0</td>\n",
       "      <td>...</td>\n",
       "      <td>0</td>\n",
       "      <td>0</td>\n",
       "      <td>0</td>\n",
       "      <td>0</td>\n",
       "      <td>0</td>\n",
       "      <td>0</td>\n",
       "      <td>0</td>\n",
       "      <td>0</td>\n",
       "      <td>0</td>\n",
       "      <td>0</td>\n",
       "    </tr>\n",
       "    <tr>\n",
       "      <th>...</th>\n",
       "      <td>...</td>\n",
       "      <td>...</td>\n",
       "      <td>...</td>\n",
       "      <td>...</td>\n",
       "      <td>...</td>\n",
       "      <td>...</td>\n",
       "      <td>...</td>\n",
       "      <td>...</td>\n",
       "      <td>...</td>\n",
       "      <td>...</td>\n",
       "      <td>...</td>\n",
       "      <td>...</td>\n",
       "      <td>...</td>\n",
       "      <td>...</td>\n",
       "      <td>...</td>\n",
       "      <td>...</td>\n",
       "      <td>...</td>\n",
       "      <td>...</td>\n",
       "      <td>...</td>\n",
       "      <td>...</td>\n",
       "      <td>...</td>\n",
       "    </tr>\n",
       "    <tr>\n",
       "      <th>240695043287403</th>\n",
       "      <td>0</td>\n",
       "      <td>0</td>\n",
       "      <td>0</td>\n",
       "      <td>0</td>\n",
       "      <td>0</td>\n",
       "      <td>0</td>\n",
       "      <td>0</td>\n",
       "      <td>0</td>\n",
       "      <td>0</td>\n",
       "      <td>0</td>\n",
       "      <td>...</td>\n",
       "      <td>0</td>\n",
       "      <td>0</td>\n",
       "      <td>0</td>\n",
       "      <td>0</td>\n",
       "      <td>0</td>\n",
       "      <td>0</td>\n",
       "      <td>0</td>\n",
       "      <td>0</td>\n",
       "      <td>0</td>\n",
       "      <td>0</td>\n",
       "    </tr>\n",
       "    <tr>\n",
       "      <th>241030031863077</th>\n",
       "      <td>0</td>\n",
       "      <td>0</td>\n",
       "      <td>0</td>\n",
       "      <td>0</td>\n",
       "      <td>1</td>\n",
       "      <td>0</td>\n",
       "      <td>0</td>\n",
       "      <td>0</td>\n",
       "      <td>0</td>\n",
       "      <td>0</td>\n",
       "      <td>...</td>\n",
       "      <td>0</td>\n",
       "      <td>0</td>\n",
       "      <td>0</td>\n",
       "      <td>0</td>\n",
       "      <td>0</td>\n",
       "      <td>0</td>\n",
       "      <td>0</td>\n",
       "      <td>0</td>\n",
       "      <td>0</td>\n",
       "      <td>0</td>\n",
       "    </tr>\n",
       "    <tr>\n",
       "      <th>241038756308851</th>\n",
       "      <td>3</td>\n",
       "      <td>0</td>\n",
       "      <td>0</td>\n",
       "      <td>0</td>\n",
       "      <td>0</td>\n",
       "      <td>0</td>\n",
       "      <td>0</td>\n",
       "      <td>0</td>\n",
       "      <td>0</td>\n",
       "      <td>0</td>\n",
       "      <td>...</td>\n",
       "      <td>0</td>\n",
       "      <td>0</td>\n",
       "      <td>0</td>\n",
       "      <td>0</td>\n",
       "      <td>0</td>\n",
       "      <td>0</td>\n",
       "      <td>0</td>\n",
       "      <td>0</td>\n",
       "      <td>1</td>\n",
       "      <td>0</td>\n",
       "    </tr>\n",
       "    <tr>\n",
       "      <th>241038775465902</th>\n",
       "      <td>0</td>\n",
       "      <td>0</td>\n",
       "      <td>0</td>\n",
       "      <td>0</td>\n",
       "      <td>0</td>\n",
       "      <td>0</td>\n",
       "      <td>0</td>\n",
       "      <td>0</td>\n",
       "      <td>0</td>\n",
       "      <td>0</td>\n",
       "      <td>...</td>\n",
       "      <td>0</td>\n",
       "      <td>0</td>\n",
       "      <td>0</td>\n",
       "      <td>0</td>\n",
       "      <td>0</td>\n",
       "      <td>0</td>\n",
       "      <td>0</td>\n",
       "      <td>0</td>\n",
       "      <td>0</td>\n",
       "      <td>0</td>\n",
       "    </tr>\n",
       "    <tr>\n",
       "      <th>241184489491892</th>\n",
       "      <td>0</td>\n",
       "      <td>0</td>\n",
       "      <td>0</td>\n",
       "      <td>0</td>\n",
       "      <td>0</td>\n",
       "      <td>0</td>\n",
       "      <td>0</td>\n",
       "      <td>0</td>\n",
       "      <td>0</td>\n",
       "      <td>0</td>\n",
       "      <td>...</td>\n",
       "      <td>0</td>\n",
       "      <td>0</td>\n",
       "      <td>0</td>\n",
       "      <td>0</td>\n",
       "      <td>0</td>\n",
       "      <td>0</td>\n",
       "      <td>0</td>\n",
       "      <td>0</td>\n",
       "      <td>0</td>\n",
       "      <td>0</td>\n",
       "    </tr>\n",
       "  </tbody>\n",
       "</table>\n",
       "<p>1087 rows × 1321 columns</p>\n",
       "</div>"
      ],
      "text/plain": [
       "                 CLUSTER  ARHGAP33  UPF1  SPPL2B  C19ORF60  TBXA2R  PAF1  \\\n",
       "120703436113835        0         0     0       0         0       0     0   \n",
       "120703436351717        1         0     0       0         0       0     0   \n",
       "120726897253220        0         0     0       0         0       0     0   \n",
       "120769892956524        0         0     0       0         0       0     0   \n",
       "120778570709861        0         0     0       0         0       0     0   \n",
       "...                  ...       ...   ...     ...       ...     ...   ...   \n",
       "240695043287403        0         0     0       0         0       0     0   \n",
       "241030031863077        0         0     0       0         1       0     0   \n",
       "241038756308851        3         0     0       0         0       0     0   \n",
       "241038775465902        0         0     0       0         0       0     0   \n",
       "241184489491892        0         0     0       0         0       0     0   \n",
       "\n",
       "                 MARK4  CCDC124  CEACAM21  ...  AC026803.1  METAZOA_SRP.6  \\\n",
       "120703436113835      0        0         0  ...           0              0   \n",
       "120703436351717      0        0         0  ...           0              0   \n",
       "120726897253220      0        0         0  ...           0              0   \n",
       "120769892956524      0        0         0  ...           0              0   \n",
       "120778570709861      0        0         0  ...           0              0   \n",
       "...                ...      ...       ...  ...         ...            ...   \n",
       "240695043287403      0        0         0  ...           0              0   \n",
       "241030031863077      0        0         0  ...           0              0   \n",
       "241038756308851      0        0         0  ...           0              0   \n",
       "241038775465902      0        0         0  ...           0              0   \n",
       "241184489491892      0        0         0  ...           0              0   \n",
       "\n",
       "                 SEPT14P19  CTD-3113P16.11  LLNLF-173C4.2  WASH5P  LINC01002  \\\n",
       "120703436113835          0               0              0       0          0   \n",
       "120703436351717          0               0              0       0          0   \n",
       "120726897253220          0               0              0       0          0   \n",
       "120769892956524          0               0              0       0          0   \n",
       "120778570709861          0               0              0       0          0   \n",
       "...                    ...             ...            ...     ...        ...   \n",
       "240695043287403          0               0              0       0          0   \n",
       "241030031863077          0               0              0       0          0   \n",
       "241038756308851          0               0              0       0          0   \n",
       "241038775465902          0               0              0       0          0   \n",
       "241184489491892          0               0              0       0          0   \n",
       "\n",
       "                 AC008993.2  BISPR  LLNLR-245B6.1  \n",
       "120703436113835           0      0              0  \n",
       "120703436351717           0      0              0  \n",
       "120726897253220           0      0              0  \n",
       "120769892956524           0      0              0  \n",
       "120778570709861           0      0              0  \n",
       "...                     ...    ...            ...  \n",
       "240695043287403           0      0              0  \n",
       "241030031863077           0      0              0  \n",
       "241038756308851           0      1              0  \n",
       "241038775465902           0      0              0  \n",
       "241184489491892           0      0              0  \n",
       "\n",
       "[1087 rows x 1321 columns]"
      ]
     },
     "execution_count": 4,
     "metadata": {},
     "output_type": "execute_result"
    }
   ],
   "source": [
    "df_dense = pd.read_csv(\n",
    "    os.path.join(path_data, sample_name + \"_dense.csv\"),\n",
    "    index_col=0\n",
    ")\n",
    "df_dense"
   ]
  },
  {
   "cell_type": "markdown",
   "metadata": {},
   "source": [
    "## Drop the CLUSTER Column"
   ]
  },
  {
   "cell_type": "code",
   "execution_count": 5,
   "metadata": {
    "ExecuteTime": {
     "end_time": "2021-07-09T16:31:01.192461Z",
     "start_time": "2021-07-09T16:31:01.184859Z"
    }
   },
   "outputs": [],
   "source": [
    "df_dense.drop(columns=[\"CLUSTER\"], inplace=True)"
   ]
  },
  {
   "cell_type": "code",
   "execution_count": 6,
   "metadata": {
    "ExecuteTime": {
     "end_time": "2021-07-09T16:31:01.213586Z",
     "start_time": "2021-07-09T16:31:01.194481Z"
    }
   },
   "outputs": [
    {
     "data": {
      "text/html": [
       "<div>\n",
       "<style scoped>\n",
       "    .dataframe tbody tr th:only-of-type {\n",
       "        vertical-align: middle;\n",
       "    }\n",
       "\n",
       "    .dataframe tbody tr th {\n",
       "        vertical-align: top;\n",
       "    }\n",
       "\n",
       "    .dataframe thead th {\n",
       "        text-align: right;\n",
       "    }\n",
       "</style>\n",
       "<table border=\"1\" class=\"dataframe\">\n",
       "  <thead>\n",
       "    <tr style=\"text-align: right;\">\n",
       "      <th></th>\n",
       "      <th>ARHGAP33</th>\n",
       "      <th>UPF1</th>\n",
       "      <th>SPPL2B</th>\n",
       "      <th>C19ORF60</th>\n",
       "      <th>TBXA2R</th>\n",
       "      <th>PAF1</th>\n",
       "      <th>MARK4</th>\n",
       "      <th>CCDC124</th>\n",
       "      <th>CEACAM21</th>\n",
       "      <th>TRAPPC6A</th>\n",
       "      <th>...</th>\n",
       "      <th>AC026803.1</th>\n",
       "      <th>METAZOA_SRP.6</th>\n",
       "      <th>SEPT14P19</th>\n",
       "      <th>CTD-3113P16.11</th>\n",
       "      <th>LLNLF-173C4.2</th>\n",
       "      <th>WASH5P</th>\n",
       "      <th>LINC01002</th>\n",
       "      <th>AC008993.2</th>\n",
       "      <th>BISPR</th>\n",
       "      <th>LLNLR-245B6.1</th>\n",
       "    </tr>\n",
       "  </thead>\n",
       "  <tbody>\n",
       "    <tr>\n",
       "      <th>120703436113835</th>\n",
       "      <td>0</td>\n",
       "      <td>0</td>\n",
       "      <td>0</td>\n",
       "      <td>0</td>\n",
       "      <td>0</td>\n",
       "      <td>0</td>\n",
       "      <td>0</td>\n",
       "      <td>0</td>\n",
       "      <td>0</td>\n",
       "      <td>0</td>\n",
       "      <td>...</td>\n",
       "      <td>0</td>\n",
       "      <td>0</td>\n",
       "      <td>0</td>\n",
       "      <td>0</td>\n",
       "      <td>0</td>\n",
       "      <td>0</td>\n",
       "      <td>0</td>\n",
       "      <td>0</td>\n",
       "      <td>0</td>\n",
       "      <td>0</td>\n",
       "    </tr>\n",
       "    <tr>\n",
       "      <th>120703436351717</th>\n",
       "      <td>0</td>\n",
       "      <td>0</td>\n",
       "      <td>0</td>\n",
       "      <td>0</td>\n",
       "      <td>0</td>\n",
       "      <td>0</td>\n",
       "      <td>0</td>\n",
       "      <td>0</td>\n",
       "      <td>0</td>\n",
       "      <td>0</td>\n",
       "      <td>...</td>\n",
       "      <td>0</td>\n",
       "      <td>0</td>\n",
       "      <td>0</td>\n",
       "      <td>0</td>\n",
       "      <td>0</td>\n",
       "      <td>0</td>\n",
       "      <td>0</td>\n",
       "      <td>0</td>\n",
       "      <td>0</td>\n",
       "      <td>0</td>\n",
       "    </tr>\n",
       "    <tr>\n",
       "      <th>120726897253220</th>\n",
       "      <td>0</td>\n",
       "      <td>0</td>\n",
       "      <td>0</td>\n",
       "      <td>0</td>\n",
       "      <td>0</td>\n",
       "      <td>0</td>\n",
       "      <td>0</td>\n",
       "      <td>0</td>\n",
       "      <td>0</td>\n",
       "      <td>0</td>\n",
       "      <td>...</td>\n",
       "      <td>0</td>\n",
       "      <td>0</td>\n",
       "      <td>0</td>\n",
       "      <td>0</td>\n",
       "      <td>0</td>\n",
       "      <td>0</td>\n",
       "      <td>0</td>\n",
       "      <td>0</td>\n",
       "      <td>0</td>\n",
       "      <td>0</td>\n",
       "    </tr>\n",
       "    <tr>\n",
       "      <th>120769892956524</th>\n",
       "      <td>0</td>\n",
       "      <td>0</td>\n",
       "      <td>0</td>\n",
       "      <td>0</td>\n",
       "      <td>0</td>\n",
       "      <td>0</td>\n",
       "      <td>0</td>\n",
       "      <td>0</td>\n",
       "      <td>0</td>\n",
       "      <td>0</td>\n",
       "      <td>...</td>\n",
       "      <td>0</td>\n",
       "      <td>0</td>\n",
       "      <td>0</td>\n",
       "      <td>0</td>\n",
       "      <td>0</td>\n",
       "      <td>0</td>\n",
       "      <td>0</td>\n",
       "      <td>0</td>\n",
       "      <td>0</td>\n",
       "      <td>0</td>\n",
       "    </tr>\n",
       "    <tr>\n",
       "      <th>120778570709861</th>\n",
       "      <td>0</td>\n",
       "      <td>0</td>\n",
       "      <td>0</td>\n",
       "      <td>0</td>\n",
       "      <td>0</td>\n",
       "      <td>0</td>\n",
       "      <td>0</td>\n",
       "      <td>0</td>\n",
       "      <td>0</td>\n",
       "      <td>0</td>\n",
       "      <td>...</td>\n",
       "      <td>0</td>\n",
       "      <td>0</td>\n",
       "      <td>0</td>\n",
       "      <td>0</td>\n",
       "      <td>0</td>\n",
       "      <td>0</td>\n",
       "      <td>0</td>\n",
       "      <td>0</td>\n",
       "      <td>0</td>\n",
       "      <td>0</td>\n",
       "    </tr>\n",
       "    <tr>\n",
       "      <th>...</th>\n",
       "      <td>...</td>\n",
       "      <td>...</td>\n",
       "      <td>...</td>\n",
       "      <td>...</td>\n",
       "      <td>...</td>\n",
       "      <td>...</td>\n",
       "      <td>...</td>\n",
       "      <td>...</td>\n",
       "      <td>...</td>\n",
       "      <td>...</td>\n",
       "      <td>...</td>\n",
       "      <td>...</td>\n",
       "      <td>...</td>\n",
       "      <td>...</td>\n",
       "      <td>...</td>\n",
       "      <td>...</td>\n",
       "      <td>...</td>\n",
       "      <td>...</td>\n",
       "      <td>...</td>\n",
       "      <td>...</td>\n",
       "      <td>...</td>\n",
       "    </tr>\n",
       "    <tr>\n",
       "      <th>240695043287403</th>\n",
       "      <td>0</td>\n",
       "      <td>0</td>\n",
       "      <td>0</td>\n",
       "      <td>0</td>\n",
       "      <td>0</td>\n",
       "      <td>0</td>\n",
       "      <td>0</td>\n",
       "      <td>0</td>\n",
       "      <td>0</td>\n",
       "      <td>0</td>\n",
       "      <td>...</td>\n",
       "      <td>0</td>\n",
       "      <td>0</td>\n",
       "      <td>0</td>\n",
       "      <td>0</td>\n",
       "      <td>0</td>\n",
       "      <td>0</td>\n",
       "      <td>0</td>\n",
       "      <td>0</td>\n",
       "      <td>0</td>\n",
       "      <td>0</td>\n",
       "    </tr>\n",
       "    <tr>\n",
       "      <th>241030031863077</th>\n",
       "      <td>0</td>\n",
       "      <td>0</td>\n",
       "      <td>0</td>\n",
       "      <td>1</td>\n",
       "      <td>0</td>\n",
       "      <td>0</td>\n",
       "      <td>0</td>\n",
       "      <td>0</td>\n",
       "      <td>0</td>\n",
       "      <td>0</td>\n",
       "      <td>...</td>\n",
       "      <td>0</td>\n",
       "      <td>0</td>\n",
       "      <td>0</td>\n",
       "      <td>0</td>\n",
       "      <td>0</td>\n",
       "      <td>0</td>\n",
       "      <td>0</td>\n",
       "      <td>0</td>\n",
       "      <td>0</td>\n",
       "      <td>0</td>\n",
       "    </tr>\n",
       "    <tr>\n",
       "      <th>241038756308851</th>\n",
       "      <td>0</td>\n",
       "      <td>0</td>\n",
       "      <td>0</td>\n",
       "      <td>0</td>\n",
       "      <td>0</td>\n",
       "      <td>0</td>\n",
       "      <td>0</td>\n",
       "      <td>0</td>\n",
       "      <td>0</td>\n",
       "      <td>0</td>\n",
       "      <td>...</td>\n",
       "      <td>0</td>\n",
       "      <td>0</td>\n",
       "      <td>0</td>\n",
       "      <td>0</td>\n",
       "      <td>0</td>\n",
       "      <td>0</td>\n",
       "      <td>0</td>\n",
       "      <td>0</td>\n",
       "      <td>1</td>\n",
       "      <td>0</td>\n",
       "    </tr>\n",
       "    <tr>\n",
       "      <th>241038775465902</th>\n",
       "      <td>0</td>\n",
       "      <td>0</td>\n",
       "      <td>0</td>\n",
       "      <td>0</td>\n",
       "      <td>0</td>\n",
       "      <td>0</td>\n",
       "      <td>0</td>\n",
       "      <td>0</td>\n",
       "      <td>0</td>\n",
       "      <td>0</td>\n",
       "      <td>...</td>\n",
       "      <td>0</td>\n",
       "      <td>0</td>\n",
       "      <td>0</td>\n",
       "      <td>0</td>\n",
       "      <td>0</td>\n",
       "      <td>0</td>\n",
       "      <td>0</td>\n",
       "      <td>0</td>\n",
       "      <td>0</td>\n",
       "      <td>0</td>\n",
       "    </tr>\n",
       "    <tr>\n",
       "      <th>241184489491892</th>\n",
       "      <td>0</td>\n",
       "      <td>0</td>\n",
       "      <td>0</td>\n",
       "      <td>0</td>\n",
       "      <td>0</td>\n",
       "      <td>0</td>\n",
       "      <td>0</td>\n",
       "      <td>0</td>\n",
       "      <td>0</td>\n",
       "      <td>0</td>\n",
       "      <td>...</td>\n",
       "      <td>0</td>\n",
       "      <td>0</td>\n",
       "      <td>0</td>\n",
       "      <td>0</td>\n",
       "      <td>0</td>\n",
       "      <td>0</td>\n",
       "      <td>0</td>\n",
       "      <td>0</td>\n",
       "      <td>0</td>\n",
       "      <td>0</td>\n",
       "    </tr>\n",
       "  </tbody>\n",
       "</table>\n",
       "<p>1087 rows × 1320 columns</p>\n",
       "</div>"
      ],
      "text/plain": [
       "                 ARHGAP33  UPF1  SPPL2B  C19ORF60  TBXA2R  PAF1  MARK4  \\\n",
       "120703436113835         0     0       0         0       0     0      0   \n",
       "120703436351717         0     0       0         0       0     0      0   \n",
       "120726897253220         0     0       0         0       0     0      0   \n",
       "120769892956524         0     0       0         0       0     0      0   \n",
       "120778570709861         0     0       0         0       0     0      0   \n",
       "...                   ...   ...     ...       ...     ...   ...    ...   \n",
       "240695043287403         0     0       0         0       0     0      0   \n",
       "241030031863077         0     0       0         1       0     0      0   \n",
       "241038756308851         0     0       0         0       0     0      0   \n",
       "241038775465902         0     0       0         0       0     0      0   \n",
       "241184489491892         0     0       0         0       0     0      0   \n",
       "\n",
       "                 CCDC124  CEACAM21  TRAPPC6A  ...  AC026803.1  METAZOA_SRP.6  \\\n",
       "120703436113835        0         0         0  ...           0              0   \n",
       "120703436351717        0         0         0  ...           0              0   \n",
       "120726897253220        0         0         0  ...           0              0   \n",
       "120769892956524        0         0         0  ...           0              0   \n",
       "120778570709861        0         0         0  ...           0              0   \n",
       "...                  ...       ...       ...  ...         ...            ...   \n",
       "240695043287403        0         0         0  ...           0              0   \n",
       "241030031863077        0         0         0  ...           0              0   \n",
       "241038756308851        0         0         0  ...           0              0   \n",
       "241038775465902        0         0         0  ...           0              0   \n",
       "241184489491892        0         0         0  ...           0              0   \n",
       "\n",
       "                 SEPT14P19  CTD-3113P16.11  LLNLF-173C4.2  WASH5P  LINC01002  \\\n",
       "120703436113835          0               0              0       0          0   \n",
       "120703436351717          0               0              0       0          0   \n",
       "120726897253220          0               0              0       0          0   \n",
       "120769892956524          0               0              0       0          0   \n",
       "120778570709861          0               0              0       0          0   \n",
       "...                    ...             ...            ...     ...        ...   \n",
       "240695043287403          0               0              0       0          0   \n",
       "241030031863077          0               0              0       0          0   \n",
       "241038756308851          0               0              0       0          0   \n",
       "241038775465902          0               0              0       0          0   \n",
       "241184489491892          0               0              0       0          0   \n",
       "\n",
       "                 AC008993.2  BISPR  LLNLR-245B6.1  \n",
       "120703436113835           0      0              0  \n",
       "120703436351717           0      0              0  \n",
       "120726897253220           0      0              0  \n",
       "120769892956524           0      0              0  \n",
       "120778570709861           0      0              0  \n",
       "...                     ...    ...            ...  \n",
       "240695043287403           0      0              0  \n",
       "241030031863077           0      0              0  \n",
       "241038756308851           0      1              0  \n",
       "241038775465902           0      0              0  \n",
       "241184489491892           0      0              0  \n",
       "\n",
       "[1087 rows x 1320 columns]"
      ]
     },
     "execution_count": 6,
     "metadata": {},
     "output_type": "execute_result"
    }
   ],
   "source": [
    "df_dense"
   ]
  },
  {
   "cell_type": "markdown",
   "metadata": {},
   "source": [
    "## Convert to AnnData"
   ]
  },
  {
   "cell_type": "code",
   "execution_count": 7,
   "metadata": {
    "ExecuteTime": {
     "end_time": "2021-07-09T16:31:01.221228Z",
     "start_time": "2021-07-09T16:31:01.217340Z"
    }
   },
   "outputs": [],
   "source": [
    "df_dense.index = df_dense.index.astype(str)"
   ]
  },
  {
   "cell_type": "code",
   "execution_count": 8,
   "metadata": {
    "ExecuteTime": {
     "end_time": "2021-07-09T16:31:01.232283Z",
     "start_time": "2021-07-09T16:31:01.223417Z"
    }
   },
   "outputs": [],
   "source": [
    "adata_filtered = sc.AnnData(df_dense)"
   ]
  },
  {
   "cell_type": "code",
   "execution_count": 9,
   "metadata": {
    "ExecuteTime": {
     "end_time": "2021-07-09T16:31:01.237677Z",
     "start_time": "2021-07-09T16:31:01.234140Z"
    }
   },
   "outputs": [
    {
     "data": {
      "text/plain": [
       "AnnData object with n_obs × n_vars = 1087 × 1320"
      ]
     },
     "execution_count": 9,
     "metadata": {},
     "output_type": "execute_result"
    }
   ],
   "source": [
    "adata_filtered"
   ]
  },
  {
   "cell_type": "code",
   "execution_count": 10,
   "metadata": {
    "ExecuteTime": {
     "end_time": "2021-07-09T16:31:01.247798Z",
     "start_time": "2021-07-09T16:31:01.239570Z"
    }
   },
   "outputs": [
    {
     "data": {
      "text/html": [
       "<div>\n",
       "<style scoped>\n",
       "    .dataframe tbody tr th:only-of-type {\n",
       "        vertical-align: middle;\n",
       "    }\n",
       "\n",
       "    .dataframe tbody tr th {\n",
       "        vertical-align: top;\n",
       "    }\n",
       "\n",
       "    .dataframe thead th {\n",
       "        text-align: right;\n",
       "    }\n",
       "</style>\n",
       "<table border=\"1\" class=\"dataframe\">\n",
       "  <thead>\n",
       "    <tr style=\"text-align: right;\">\n",
       "      <th></th>\n",
       "    </tr>\n",
       "  </thead>\n",
       "  <tbody>\n",
       "    <tr>\n",
       "      <th>ARHGAP33</th>\n",
       "    </tr>\n",
       "    <tr>\n",
       "      <th>UPF1</th>\n",
       "    </tr>\n",
       "    <tr>\n",
       "      <th>SPPL2B</th>\n",
       "    </tr>\n",
       "    <tr>\n",
       "      <th>C19ORF60</th>\n",
       "    </tr>\n",
       "    <tr>\n",
       "      <th>TBXA2R</th>\n",
       "    </tr>\n",
       "    <tr>\n",
       "      <th>...</th>\n",
       "    </tr>\n",
       "    <tr>\n",
       "      <th>WASH5P</th>\n",
       "    </tr>\n",
       "    <tr>\n",
       "      <th>LINC01002</th>\n",
       "    </tr>\n",
       "    <tr>\n",
       "      <th>AC008993.2</th>\n",
       "    </tr>\n",
       "    <tr>\n",
       "      <th>BISPR</th>\n",
       "    </tr>\n",
       "    <tr>\n",
       "      <th>LLNLR-245B6.1</th>\n",
       "    </tr>\n",
       "  </tbody>\n",
       "</table>\n",
       "<p>1320 rows × 0 columns</p>\n",
       "</div>"
      ],
      "text/plain": [
       "Empty DataFrame\n",
       "Columns: []\n",
       "Index: [ARHGAP33, UPF1, SPPL2B, C19ORF60, TBXA2R, PAF1, MARK4, CCDC124, CEACAM21, TRAPPC6A, MATK, MPND, NFIX, GIPR, FUZ, APBA3, AKAP8L, PTBP1, PLAUR, WIZ, QPCTL, PPP5C, ZBTB32, TYROBP, ERCC1, CD22, PSMC4, ZNF582, NLRP2, POU2F2, RANBP3, PNPLA6, MRI1, PNKP, AP2S1, HOMER3, USE1, GNA15, SLC6A16, GLTSCR1, SPHK2, RPL18, CA11, ISOC2, U2AF2, EPN1, MED29, RFXANK, TMEM161A, LPAR2, SUGP2, CNN2, ABCA7, SBNO2, HMG20B, AP3D1, WDR18, TLE2, PDE4A, ELAVL1, SIRT2, BCL3, FGF22, FSTL3, RNF126, TCF3, DAZAP1, MBD3, PRKACA, ADGRL1, TMEM38A, AP1M1, PVR, XRCC1, TEAD2, MYDGF, ANO8, WDR62, GPATCH1, ICAM3, XAB2, ARHGEF1, STXBP2, MAP2K7, SNRPA, EXOSC5, SIRT6, REXO1, CEACAM1, CIC, LIPE, PAFAH1B3, DNM2, KEAP1, ZNF506, SLC27A5, ZNF324, ZNF671, ZNF586, ZNF446, ...]\n",
       "\n",
       "[1320 rows x 0 columns]"
      ]
     },
     "execution_count": 10,
     "metadata": {},
     "output_type": "execute_result"
    }
   ],
   "source": [
    "adata_filtered.var"
   ]
  },
  {
   "cell_type": "code",
   "execution_count": 11,
   "metadata": {
    "ExecuteTime": {
     "end_time": "2021-07-09T16:31:01.258182Z",
     "start_time": "2021-07-09T16:31:01.249948Z"
    }
   },
   "outputs": [
    {
     "data": {
      "text/html": [
       "<div>\n",
       "<style scoped>\n",
       "    .dataframe tbody tr th:only-of-type {\n",
       "        vertical-align: middle;\n",
       "    }\n",
       "\n",
       "    .dataframe tbody tr th {\n",
       "        vertical-align: top;\n",
       "    }\n",
       "\n",
       "    .dataframe thead th {\n",
       "        text-align: right;\n",
       "    }\n",
       "</style>\n",
       "<table border=\"1\" class=\"dataframe\">\n",
       "  <thead>\n",
       "    <tr style=\"text-align: right;\">\n",
       "      <th></th>\n",
       "    </tr>\n",
       "  </thead>\n",
       "  <tbody>\n",
       "    <tr>\n",
       "      <th>120703436113835</th>\n",
       "    </tr>\n",
       "    <tr>\n",
       "      <th>120703436351717</th>\n",
       "    </tr>\n",
       "    <tr>\n",
       "      <th>120726897253220</th>\n",
       "    </tr>\n",
       "    <tr>\n",
       "      <th>120769892956524</th>\n",
       "    </tr>\n",
       "    <tr>\n",
       "      <th>120778570709861</th>\n",
       "    </tr>\n",
       "    <tr>\n",
       "      <th>...</th>\n",
       "    </tr>\n",
       "    <tr>\n",
       "      <th>240695043287403</th>\n",
       "    </tr>\n",
       "    <tr>\n",
       "      <th>241030031863077</th>\n",
       "    </tr>\n",
       "    <tr>\n",
       "      <th>241038756308851</th>\n",
       "    </tr>\n",
       "    <tr>\n",
       "      <th>241038775465902</th>\n",
       "    </tr>\n",
       "    <tr>\n",
       "      <th>241184489491892</th>\n",
       "    </tr>\n",
       "  </tbody>\n",
       "</table>\n",
       "<p>1087 rows × 0 columns</p>\n",
       "</div>"
      ],
      "text/plain": [
       "Empty DataFrame\n",
       "Columns: []\n",
       "Index: [120703436113835, 120703436351717, 120726897253220, 120769892956524, 120778570709861, 120786772708766, 120786785585382, 120847156329782, 120847183865635, 120850243079029, 120864470153077, 120864470846774, 120864517020020, 121184472749869, 121184472917750, 121184473206067, 121184491563892, 121254253808870, 121322602150118, 121338689382621, 121390228196206, 121390228461875, 121390247078133, 121399087085469, 121405233388765, 121405260549478, 121408857455526, 121408904150365, 121416401508645, 121731934448436, 121735006239142, 121735052913565, 121735053163244, 121748858460085, 121751112403749, 121802832366365, 121829764483819, 121829792017259, 121869136681755, 121886404209461, 121886431721846, 121887343459556, 121887343696174, 121887389866844, 121889787402534, 121889806276452, 121940405509549, 121946427057907, 121963862219045, 121963862473526, 121963875067766, 122283716361118, 122307606604518, 122352288786660, 122369602599790, 122369615711526, 122378446060963, 122378473327350, 122379432324395, 122444884397294, 122444899071790, 122444930730726, 122487982413732, 122487982902005, 122487995525548, 122490813900636, 122499672722739, 122505040718190, 122505060280734, 125050586880308, 125102575250158, 125127896251819, 125127923547486, 125168041999203, 125236613364981, 125257147968806, 125583592897334, 125583593461685, 125583612308844, 125744627017957, 125744641629422, 125745297800542, 125745298258867, 125746505768347, 125786529905509, 125804803143918, 126150279322404, 126150279555868, 126201906809268, 126201952877404, 126201953414068, 126216026634982, 126224455658283, 126224469965548, 126224483072806, 126227570092907, 126268613217189, 126268640454900, 126278169487726, 126278188584347, ...]\n",
       "\n",
       "[1087 rows x 0 columns]"
      ]
     },
     "execution_count": 11,
     "metadata": {},
     "output_type": "execute_result"
    }
   ],
   "source": [
    "adata_filtered.obs"
   ]
  },
  {
   "cell_type": "code",
   "execution_count": 12,
   "metadata": {
    "ExecuteTime": {
     "end_time": "2021-07-09T16:31:01.263005Z",
     "start_time": "2021-07-09T16:31:01.259880Z"
    }
   },
   "outputs": [
    {
     "name": "stdout",
     "output_type": "stream",
     "text": [
      "FILTERED AnnData object with n_obs × n_vars = 1087 × 1320\n"
     ]
    }
   ],
   "source": [
    "print(\"FILTERED\", adata_filtered)"
   ]
  },
  {
   "cell_type": "markdown",
   "metadata": {},
   "source": [
    "## Write to Disk"
   ]
  },
  {
   "cell_type": "code",
   "execution_count": 13,
   "metadata": {
    "ExecuteTime": {
     "end_time": "2021-07-09T16:31:01.289831Z",
     "start_time": "2021-07-09T16:31:01.265522Z"
    }
   },
   "outputs": [],
   "source": [
    "adata_filtered.write_h5ad(\n",
    "    os.path.join(path_out, sample_name + \".filtered.h5ad\")\n",
    ")"
   ]
  },
  {
   "cell_type": "markdown",
   "metadata": {},
   "source": [
    "# Sparse Count Matrix"
   ]
  },
  {
   "cell_type": "markdown",
   "metadata": {},
   "source": [
    "## Load"
   ]
  },
  {
   "cell_type": "code",
   "execution_count": 14,
   "metadata": {
    "ExecuteTime": {
     "end_time": "2021-07-09T16:31:01.405703Z",
     "start_time": "2021-07-09T16:31:01.291830Z"
    }
   },
   "outputs": [],
   "source": [
    "mol_counts = scipy.io.mmread(os.path.join(path_data, sample_name + \"_sparse_molecule_counts.mtx\"))"
   ]
  },
  {
   "cell_type": "code",
   "execution_count": 15,
   "metadata": {
    "ExecuteTime": {
     "end_time": "2021-07-09T16:31:01.410892Z",
     "start_time": "2021-07-09T16:31:01.407417Z"
    }
   },
   "outputs": [
    {
     "data": {
      "text/plain": [
       "<5941x1347 sparse matrix of type '<class 'numpy.int64'>'\n",
       "\twith 64426 stored elements in COOrdinate format>"
      ]
     },
     "execution_count": 15,
     "metadata": {},
     "output_type": "execute_result"
    }
   ],
   "source": [
    "mol_counts"
   ]
  },
  {
   "cell_type": "code",
   "execution_count": 16,
   "metadata": {
    "ExecuteTime": {
     "end_time": "2021-07-09T16:31:01.510124Z",
     "start_time": "2021-07-09T16:31:01.412896Z"
    }
   },
   "outputs": [],
   "source": [
    "# currently not being used\n",
    "read_counts = scipy.io.mmread(os.path.join(path_data, sample_name + \"_sparse_read_counts.mtx\"))"
   ]
  },
  {
   "cell_type": "code",
   "execution_count": 17,
   "metadata": {
    "ExecuteTime": {
     "end_time": "2021-07-09T16:31:01.515280Z",
     "start_time": "2021-07-09T16:31:01.511684Z"
    }
   },
   "outputs": [
    {
     "data": {
      "text/plain": [
       "<5941x1347 sparse matrix of type '<class 'numpy.int64'>'\n",
       "\twith 64426 stored elements in COOrdinate format>"
      ]
     },
     "execution_count": 17,
     "metadata": {},
     "output_type": "execute_result"
    }
   ],
   "source": [
    "read_counts"
   ]
  },
  {
   "cell_type": "code",
   "execution_count": 18,
   "metadata": {
    "ExecuteTime": {
     "end_time": "2021-07-09T16:31:01.523842Z",
     "start_time": "2021-07-09T16:31:01.516806Z"
    }
   },
   "outputs": [
    {
     "data": {
      "text/plain": [
       "array(['ARHGAP33', 'UPF1', 'SPPL2B', ..., 'AC008993.2', 'BISPR',\n",
       "       'LLNLR-245B6.1'], dtype=object)"
      ]
     },
     "execution_count": 18,
     "metadata": {},
     "output_type": "execute_result"
    }
   ],
   "source": [
    "features = pd.read_csv(os.path.join(path_data, sample_name + \"_sparse_counts_genes.csv\"), index_col=0, header=None)[1].values\n",
    "features"
   ]
  },
  {
   "cell_type": "code",
   "execution_count": 19,
   "metadata": {
    "ExecuteTime": {
     "end_time": "2021-07-09T16:31:01.538562Z",
     "start_time": "2021-07-09T16:31:01.525480Z"
    }
   },
   "outputs": [
    {
     "data": {
      "text/plain": [
       "array(['120703424092390', '120703436056350', '120703436113835', ...,\n",
       "       '241184490047774', '241184504207219', '241184535430878'],\n",
       "      dtype='<U21')"
      ]
     },
     "execution_count": 19,
     "metadata": {},
     "output_type": "execute_result"
    }
   ],
   "source": [
    "barcodes = pd.read_csv(\n",
    "    os.path.join(path_data, sample_name + \"_sparse_counts_barcodes.csv\"),\n",
    "    index_col=0,\n",
    "    header=None\n",
    ")[1].values.astype(str)\n",
    "barcodes"
   ]
  },
  {
   "cell_type": "markdown",
   "metadata": {},
   "source": [
    "## Convert to AnnData"
   ]
  },
  {
   "cell_type": "code",
   "execution_count": 20,
   "metadata": {
    "ExecuteTime": {
     "end_time": "2021-07-09T16:31:01.611478Z",
     "start_time": "2021-07-09T16:31:01.540258Z"
    }
   },
   "outputs": [],
   "source": [
    "# .X contains molecule counts\n",
    "adata_raw = sc.AnnData(mol_counts.todense())"
   ]
  },
  {
   "cell_type": "code",
   "execution_count": 21,
   "metadata": {
    "ExecuteTime": {
     "end_time": "2021-07-09T16:31:01.618618Z",
     "start_time": "2021-07-09T16:31:01.613641Z"
    }
   },
   "outputs": [],
   "source": [
    "adata_raw.obs_names = barcodes\n",
    "adata_raw.var_names = features"
   ]
  },
  {
   "cell_type": "code",
   "execution_count": 22,
   "metadata": {
    "ExecuteTime": {
     "end_time": "2021-07-09T16:31:01.626157Z",
     "start_time": "2021-07-09T16:31:01.622459Z"
    }
   },
   "outputs": [
    {
     "data": {
      "text/plain": [
       "AnnData object with n_obs × n_vars = 5941 × 1347"
      ]
     },
     "execution_count": 22,
     "metadata": {},
     "output_type": "execute_result"
    }
   ],
   "source": [
    "adata_raw"
   ]
  },
  {
   "cell_type": "code",
   "execution_count": 23,
   "metadata": {
    "ExecuteTime": {
     "end_time": "2021-07-09T16:31:01.637643Z",
     "start_time": "2021-07-09T16:31:01.628749Z"
    }
   },
   "outputs": [
    {
     "data": {
      "text/html": [
       "<div>\n",
       "<style scoped>\n",
       "    .dataframe tbody tr th:only-of-type {\n",
       "        vertical-align: middle;\n",
       "    }\n",
       "\n",
       "    .dataframe tbody tr th {\n",
       "        vertical-align: top;\n",
       "    }\n",
       "\n",
       "    .dataframe thead th {\n",
       "        text-align: right;\n",
       "    }\n",
       "</style>\n",
       "<table border=\"1\" class=\"dataframe\">\n",
       "  <thead>\n",
       "    <tr style=\"text-align: right;\">\n",
       "      <th></th>\n",
       "    </tr>\n",
       "  </thead>\n",
       "  <tbody>\n",
       "    <tr>\n",
       "      <th>120703424092390</th>\n",
       "    </tr>\n",
       "    <tr>\n",
       "      <th>120703436056350</th>\n",
       "    </tr>\n",
       "    <tr>\n",
       "      <th>120703436113835</th>\n",
       "    </tr>\n",
       "    <tr>\n",
       "      <th>120703436319462</th>\n",
       "    </tr>\n",
       "    <tr>\n",
       "      <th>120703436351717</th>\n",
       "    </tr>\n",
       "    <tr>\n",
       "      <th>...</th>\n",
       "    </tr>\n",
       "    <tr>\n",
       "      <th>241184489491892</th>\n",
       "    </tr>\n",
       "    <tr>\n",
       "      <th>241184489753509</th>\n",
       "    </tr>\n",
       "    <tr>\n",
       "      <th>241184490047774</th>\n",
       "    </tr>\n",
       "    <tr>\n",
       "      <th>241184504207219</th>\n",
       "    </tr>\n",
       "    <tr>\n",
       "      <th>241184535430878</th>\n",
       "    </tr>\n",
       "  </tbody>\n",
       "</table>\n",
       "<p>5941 rows × 0 columns</p>\n",
       "</div>"
      ],
      "text/plain": [
       "Empty DataFrame\n",
       "Columns: []\n",
       "Index: [120703424092390, 120703436056350, 120703436113835, 120703436319462, 120703436351717, 120703436602715, 120718441692083, 120718487374123, 120726897253220, 120726897474341, 120726897679197, 120726897703149, 120726897739493, 120726912390965, 120728790649708, 120728803760348, 120728804084517, 120728822365484, 120728822435123, 120728822659803, 120729983937453, 120730011786139, 120730030664413, 120769846562027, 120769846663923, 120769847151854, 120769874094827, 120769874192614, 120769892764523, 120769892956524, 120769893022580, 120778570709861, 120778598299436, 120778598505692, 120778598856485, 120778616858524, 120778617411363, 120781389317878, 120781389904606, 120781390134188, 120781417073573, 120781435750707, 120786758354741, 120786772708766, 120786773461726, 120786785585382, 120786804422508, 120788101056310, 120788114886046, 120788128316828, 120788146343212, 120788146666844, 120847156042676, 120847156307702, 120847156329782, 120847156337052, 120847170918134, 120847171213110, 120847171534133, 120847183865635, 120847202176357, 120847202213092, 120847202901341, 120849035802411, 120849062288229, 120849081261284, 120850243016541, 120850243079029, 120850243086197, 120850243546013, 120850243599646, 120850258189611, 120850258220827, 120850258282405, 120850270316851, 120850271090461, 120856566000868, 120856566414046, 120864470153077, 120864470846774, 120864485071262, 120864485371187, 120864516524764, 120864517020020, 121184445943020, 121184472481118, 121184472749869, 121184472917750, 121184473206067, 121184491563892, 121184492051237, 121254238608813, 121254238866284, 121254253808870, 121254266203380, 121254266394341, 121254285297397, 121322555686126, 121322582502691, 121322602150118, ...]\n",
       "\n",
       "[5941 rows x 0 columns]"
      ]
     },
     "execution_count": 23,
     "metadata": {},
     "output_type": "execute_result"
    }
   ],
   "source": [
    "adata_raw.obs"
   ]
  },
  {
   "cell_type": "code",
   "execution_count": 24,
   "metadata": {
    "ExecuteTime": {
     "end_time": "2021-07-09T16:31:01.647186Z",
     "start_time": "2021-07-09T16:31:01.639434Z"
    }
   },
   "outputs": [
    {
     "data": {
      "text/html": [
       "<div>\n",
       "<style scoped>\n",
       "    .dataframe tbody tr th:only-of-type {\n",
       "        vertical-align: middle;\n",
       "    }\n",
       "\n",
       "    .dataframe tbody tr th {\n",
       "        vertical-align: top;\n",
       "    }\n",
       "\n",
       "    .dataframe thead th {\n",
       "        text-align: right;\n",
       "    }\n",
       "</style>\n",
       "<table border=\"1\" class=\"dataframe\">\n",
       "  <thead>\n",
       "    <tr style=\"text-align: right;\">\n",
       "      <th></th>\n",
       "    </tr>\n",
       "  </thead>\n",
       "  <tbody>\n",
       "    <tr>\n",
       "      <th>ARHGAP33</th>\n",
       "    </tr>\n",
       "    <tr>\n",
       "      <th>UPF1</th>\n",
       "    </tr>\n",
       "    <tr>\n",
       "      <th>SPPL2B</th>\n",
       "    </tr>\n",
       "    <tr>\n",
       "      <th>C19ORF60</th>\n",
       "    </tr>\n",
       "    <tr>\n",
       "      <th>TBXA2R</th>\n",
       "    </tr>\n",
       "    <tr>\n",
       "      <th>...</th>\n",
       "    </tr>\n",
       "    <tr>\n",
       "      <th>WASH5P</th>\n",
       "    </tr>\n",
       "    <tr>\n",
       "      <th>LINC01002</th>\n",
       "    </tr>\n",
       "    <tr>\n",
       "      <th>AC008993.2</th>\n",
       "    </tr>\n",
       "    <tr>\n",
       "      <th>BISPR</th>\n",
       "    </tr>\n",
       "    <tr>\n",
       "      <th>LLNLR-245B6.1</th>\n",
       "    </tr>\n",
       "  </tbody>\n",
       "</table>\n",
       "<p>1347 rows × 0 columns</p>\n",
       "</div>"
      ],
      "text/plain": [
       "Empty DataFrame\n",
       "Columns: []\n",
       "Index: [ARHGAP33, UPF1, SPPL2B, C19ORF60, TBXA2R, PAF1, MARK4, CCDC124, CEACAM21, TRAPPC6A, MATK, MPND, NFIX, GIPR, FUZ, APBA3, AKAP8L, PTBP1, PLAUR, WIZ, QPCTL, PPP5C, ZBTB32, TYROBP, ERCC1, CD22, PSMC4, ZNF582, NLRP2, POU2F2, RANBP3, PNPLA6, MRI1, PNKP, AP2S1, HOMER3, USE1, GNA15, SLC6A16, GLTSCR1, SPHK2, RPL18, CA11, ISOC2, U2AF2, EPN1, MED29, RFXANK, TMEM161A, LPAR2, SUGP2, CNN2, ABCA7, SBNO2, HMG20B, AP3D1, WDR18, TLE2, PDE4A, ELAVL1, SIRT2, BCL3, FGF22, FSTL3, RNF126, TCF3, DAZAP1, MBD3, PRKACA, ADGRL1, TMEM38A, AP1M1, PVR, XRCC1, TEAD2, MYDGF, ANO8, WDR62, GPATCH1, ICAM3, XAB2, ARHGEF1, STXBP2, MAP2K7, SNRPA, EXOSC5, SIRT6, REXO1, CEACAM1, CIC, LIPE, PAFAH1B3, DNM2, KEAP1, ZNF506, SLC27A5, ZNF324, ZNF671, ZNF586, ZNF446, ...]\n",
       "\n",
       "[1347 rows x 0 columns]"
      ]
     },
     "execution_count": 24,
     "metadata": {},
     "output_type": "execute_result"
    }
   ],
   "source": [
    "adata_raw.var"
   ]
  },
  {
   "cell_type": "code",
   "execution_count": 25,
   "metadata": {
    "ExecuteTime": {
     "end_time": "2021-07-09T16:31:01.653564Z",
     "start_time": "2021-07-09T16:31:01.649350Z"
    }
   },
   "outputs": [
    {
     "data": {
      "text/plain": [
       "array([[0., 0., 0., ..., 0., 0., 0.],\n",
       "       [0., 0., 0., ..., 0., 0., 0.],\n",
       "       [0., 0., 0., ..., 0., 0., 0.],\n",
       "       ...,\n",
       "       [0., 0., 0., ..., 0., 0., 0.],\n",
       "       [0., 0., 0., ..., 0., 0., 0.],\n",
       "       [0., 0., 0., ..., 0., 0., 0.]], dtype=float32)"
      ]
     },
     "execution_count": 25,
     "metadata": {},
     "output_type": "execute_result"
    }
   ],
   "source": [
    "# molecule counts\n",
    "adata_raw.X"
   ]
  },
  {
   "cell_type": "code",
   "execution_count": 26,
   "metadata": {
    "ExecuteTime": {
     "end_time": "2021-07-09T16:31:01.659061Z",
     "start_time": "2021-07-09T16:31:01.655488Z"
    }
   },
   "outputs": [
    {
     "name": "stdout",
     "output_type": "stream",
     "text": [
      "RAW AnnData object with n_obs × n_vars = 5941 × 1347\n"
     ]
    }
   ],
   "source": [
    "print(\"RAW\", adata_raw)"
   ]
  },
  {
   "cell_type": "markdown",
   "metadata": {},
   "source": [
    "## Write to Disk"
   ]
  },
  {
   "cell_type": "code",
   "execution_count": 27,
   "metadata": {
    "ExecuteTime": {
     "end_time": "2021-07-09T16:31:01.698922Z",
     "start_time": "2021-07-09T16:31:01.661284Z"
    }
   },
   "outputs": [],
   "source": [
    "adata_raw.write_h5ad(\n",
    "    os.path.join(path_out, sample_name + \".raw.h5ad\")\n",
    ")"
   ]
  },
  {
   "cell_type": "code",
   "execution_count": null,
   "metadata": {},
   "outputs": [],
   "source": []
  }
 ],
 "metadata": {
  "kernelspec": {
   "display_name": "Python 3",
   "language": "python",
   "name": "python3"
  },
  "language_info": {
   "codemirror_mode": {
    "name": "ipython",
    "version": 3
   },
   "file_extension": ".py",
   "mimetype": "text/x-python",
   "name": "python",
   "nbconvert_exporter": "python",
   "pygments_lexer": "ipython3",
   "version": "3.7.7"
  },
  "toc": {
   "base_numbering": 1,
   "nav_menu": {},
   "number_sections": true,
   "sideBar": true,
   "skip_h1_title": false,
   "title_cell": "Table of Contents",
   "title_sidebar": "Contents",
   "toc_cell": false,
   "toc_position": {},
   "toc_section_display": true,
   "toc_window_display": true
  }
 },
 "nbformat": 4,
 "nbformat_minor": 4
}
