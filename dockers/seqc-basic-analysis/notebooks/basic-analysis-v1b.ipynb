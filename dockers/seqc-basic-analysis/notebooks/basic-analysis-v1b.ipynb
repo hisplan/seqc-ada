{
 "cells": [
  {
   "cell_type": "markdown",
   "source": [
    "# Introduction"
   ],
   "metadata": {}
  },
  {
   "cell_type": "markdown",
   "source": [
    "Once the sequenced reads are processed using SEQC, this automated notebook is run to visualize and obtain some basic information about the data.\n",
    "\n",
    "This notebook loads the SEQC filtered output, normalized the count matrix, performs dimensionality reduction, visualizes the cells, clusters the cells and performs differential expression to identify enriched genes in each cluster. "
   ],
   "metadata": {}
  },
  {
   "cell_type": "markdown",
   "source": [
    "## Import packages"
   ],
   "metadata": {}
  },
  {
   "cell_type": "code",
   "execution_count": 1,
   "source": [
    "import os\n",
    "import scanpy as sc\n",
    "import numpy as np\n",
    "import matplotlib.pyplot as plt\n",
    "import pandas as pd\n",
    "import anndata\n",
    "from scipy import sparse\n",
    "import phenograph\n",
    "\n",
    "from get_optimal_k import KOptimizer"
   ],
   "outputs": [],
   "metadata": {
    "ExecuteTime": {
     "end_time": "2021-08-19T11:11:37.246660Z",
     "start_time": "2021-08-19T11:11:35.270703Z"
    }
   }
  },
  {
   "cell_type": "code",
   "execution_count": 2,
   "source": [
    "sc.logging.print_header()"
   ],
   "outputs": [
    {
     "output_type": "stream",
     "name": "stdout",
     "text": [
      "scanpy==1.8.1 anndata==0.7.4 umap==0.4.6 numpy==1.19.2 scipy==1.5.2 pandas==1.2.4 scikit-learn==0.23.2 statsmodels==0.11.1 python-igraph==0.8.3 louvain==0.7.0 leidenalg==0.8.2\n"
     ]
    }
   ],
   "metadata": {
    "ExecuteTime": {
     "end_time": "2021-08-19T11:11:38.116448Z",
     "start_time": "2021-08-19T11:11:37.248569Z"
    }
   }
  },
  {
   "cell_type": "markdown",
   "source": [
    "## Parameters"
   ],
   "metadata": {}
  },
  {
   "cell_type": "code",
   "execution_count": 3,
   "source": [
    "# This parameters cell will be overridden by values specified at execution time.\n",
    "################################################################################\n",
    "\n",
    "sample_name = \"2_DT_2_CD45plus\"\n",
    "path_raw_adata = \"../test/2_DT_2_CD45plus.raw.h5ad\"\n",
    "path_filtered_adata = \"../test/2_DT_2_CD45plus.filtered.h5ad\"\n",
    "\n",
    "path_outdir = \"./outputs/\"\n",
    "path_rb_gene_list = \"./RB_genes_human.txt\"\n",
    "\n",
    "hvg_n_top_genes = 5000\n",
    "pca_n_comps = 50\n",
    "n_neighbors = 30"
   ],
   "outputs": [],
   "metadata": {
    "ExecuteTime": {
     "end_time": "2021-08-19T11:11:38.120894Z",
     "start_time": "2021-08-19T11:11:38.118056Z"
    },
    "tags": [
     "parameters"
    ]
   }
  },
  {
   "cell_type": "code",
   "execution_count": 4,
   "source": [
    "os.makedirs(path_outdir, exist_ok=True)"
   ],
   "outputs": [],
   "metadata": {
    "ExecuteTime": {
     "end_time": "2021-08-19T11:11:38.124627Z",
     "start_time": "2021-08-19T11:11:38.122393Z"
    }
   }
  },
  {
   "cell_type": "markdown",
   "source": [
    "# Load data "
   ],
   "metadata": {}
  },
  {
   "cell_type": "code",
   "execution_count": 5,
   "source": [
    "adata = sc.read_h5ad(path_filtered_adata)"
   ],
   "outputs": [],
   "metadata": {
    "ExecuteTime": {
     "end_time": "2021-08-19T11:11:38.376205Z",
     "start_time": "2021-08-19T11:11:38.126266Z"
    }
   }
  },
  {
   "cell_type": "code",
   "execution_count": 6,
   "source": [
    "# View the cell barcodes:\n",
    "adata.obs.head()"
   ],
   "outputs": [
    {
     "output_type": "execute_result",
     "data": {
      "text/plain": [
       "Empty DataFrame\n",
       "Columns: []\n",
       "Index: [120703424257380, 120703455455644, 120703455480742, 120726897191836, 120726912354163]"
      ],
      "text/html": [
       "<div>\n",
       "<style scoped>\n",
       "    .dataframe tbody tr th:only-of-type {\n",
       "        vertical-align: middle;\n",
       "    }\n",
       "\n",
       "    .dataframe tbody tr th {\n",
       "        vertical-align: top;\n",
       "    }\n",
       "\n",
       "    .dataframe thead th {\n",
       "        text-align: right;\n",
       "    }\n",
       "</style>\n",
       "<table border=\"1\" class=\"dataframe\">\n",
       "  <thead>\n",
       "    <tr style=\"text-align: right;\">\n",
       "      <th></th>\n",
       "    </tr>\n",
       "  </thead>\n",
       "  <tbody>\n",
       "    <tr>\n",
       "      <th>120703424257380</th>\n",
       "    </tr>\n",
       "    <tr>\n",
       "      <th>120703455455644</th>\n",
       "    </tr>\n",
       "    <tr>\n",
       "      <th>120703455480742</th>\n",
       "    </tr>\n",
       "    <tr>\n",
       "      <th>120726897191836</th>\n",
       "    </tr>\n",
       "    <tr>\n",
       "      <th>120726912354163</th>\n",
       "    </tr>\n",
       "  </tbody>\n",
       "</table>\n",
       "</div>"
      ]
     },
     "metadata": {},
     "execution_count": 6
    }
   ],
   "metadata": {
    "ExecuteTime": {
     "end_time": "2021-08-19T11:11:38.387325Z",
     "start_time": "2021-08-19T11:11:38.377804Z"
    }
   }
  },
  {
   "cell_type": "code",
   "execution_count": 7,
   "source": [
    "# View the gene names:\n",
    "adata.var.head()"
   ],
   "outputs": [
    {
     "output_type": "execute_result",
     "data": {
      "text/plain": [
       "Empty DataFrame\n",
       "Columns: []\n",
       "Index: [GNAI3, CDC45, APOH, NARF, CAV2]"
      ],
      "text/html": [
       "<div>\n",
       "<style scoped>\n",
       "    .dataframe tbody tr th:only-of-type {\n",
       "        vertical-align: middle;\n",
       "    }\n",
       "\n",
       "    .dataframe tbody tr th {\n",
       "        vertical-align: top;\n",
       "    }\n",
       "\n",
       "    .dataframe thead th {\n",
       "        text-align: right;\n",
       "    }\n",
       "</style>\n",
       "<table border=\"1\" class=\"dataframe\">\n",
       "  <thead>\n",
       "    <tr style=\"text-align: right;\">\n",
       "      <th></th>\n",
       "    </tr>\n",
       "  </thead>\n",
       "  <tbody>\n",
       "    <tr>\n",
       "      <th>GNAI3</th>\n",
       "    </tr>\n",
       "    <tr>\n",
       "      <th>CDC45</th>\n",
       "    </tr>\n",
       "    <tr>\n",
       "      <th>APOH</th>\n",
       "    </tr>\n",
       "    <tr>\n",
       "      <th>NARF</th>\n",
       "    </tr>\n",
       "    <tr>\n",
       "      <th>CAV2</th>\n",
       "    </tr>\n",
       "  </tbody>\n",
       "</table>\n",
       "</div>"
      ]
     },
     "metadata": {},
     "execution_count": 7
    }
   ],
   "metadata": {
    "ExecuteTime": {
     "end_time": "2021-08-19T11:11:38.395626Z",
     "start_time": "2021-08-19T11:11:38.390109Z"
    }
   }
  },
  {
   "cell_type": "markdown",
   "source": [
    "# QC"
   ],
   "metadata": {}
  },
  {
   "cell_type": "code",
   "execution_count": 8,
   "source": [
    "adata"
   ],
   "outputs": [
    {
     "output_type": "execute_result",
     "data": {
      "text/plain": [
       "AnnData object with n_obs × n_vars = 2593 × 15198"
      ]
     },
     "metadata": {},
     "execution_count": 8
    }
   ],
   "metadata": {
    "ExecuteTime": {
     "end_time": "2021-08-19T11:11:38.401273Z",
     "start_time": "2021-08-19T11:11:38.397794Z"
    }
   }
  },
  {
   "cell_type": "code",
   "execution_count": 9,
   "source": [
    "# This line of code automatically computes some of the essential QC metrics\n",
    "sc.pp.calculate_qc_metrics(adata, inplace = True)"
   ],
   "outputs": [],
   "metadata": {
    "ExecuteTime": {
     "end_time": "2021-08-19T11:11:39.071242Z",
     "start_time": "2021-08-19T11:11:38.402928Z"
    }
   }
  },
  {
   "cell_type": "code",
   "execution_count": 10,
   "source": [
    "adata"
   ],
   "outputs": [
    {
     "output_type": "execute_result",
     "data": {
      "text/plain": [
       "AnnData object with n_obs × n_vars = 2593 × 15198\n",
       "    obs: 'n_genes_by_counts', 'log1p_n_genes_by_counts', 'total_counts', 'log1p_total_counts', 'pct_counts_in_top_50_genes', 'pct_counts_in_top_100_genes', 'pct_counts_in_top_200_genes', 'pct_counts_in_top_500_genes'\n",
       "    var: 'n_cells_by_counts', 'mean_counts', 'log1p_mean_counts', 'pct_dropout_by_counts', 'total_counts', 'log1p_total_counts'"
      ]
     },
     "metadata": {},
     "execution_count": 10
    }
   ],
   "metadata": {
    "ExecuteTime": {
     "end_time": "2021-08-19T11:11:39.076258Z",
     "start_time": "2021-08-19T11:11:39.072869Z"
    }
   }
  },
  {
   "cell_type": "markdown",
   "source": [
    "## Distribution of gene counts"
   ],
   "metadata": {}
  },
  {
   "cell_type": "markdown",
   "source": [
    "First, we look at the distribution of the total number of cells each gene is expressed in. It is stored in `n_cells_by_counts` in adata."
   ],
   "metadata": {}
  },
  {
   "cell_type": "code",
   "execution_count": 11,
   "source": [
    "fig = plt.figure(figsize = (8*2, 6*1))\n",
    "\n",
    "ax = fig.add_subplot(1, 2, 1)\n",
    "ax.hist(adata.var['n_cells_by_counts'], 100);\n",
    "ax.set_xlabel('Number of cells each gene is expressed in', fontsize = 12)\n",
    "ax.set_ylabel('Frequency', fontsize = 12)\n",
    "\n",
    "ax = fig.add_subplot(1, 2, 2)\n",
    "ax.hist(np.log2(adata.var['n_cells_by_counts'] + 1), 100);\n",
    "ax.set_xlabel('log2(Number of cells each gene is expressed in)', fontsize = 12)\n",
    "ax.set_ylabel('Frequency', fontsize = 12)\n",
    "\n",
    "# Save figure\n",
    "# fig.savefig(path_outdir + 'distr_gene_expression.png', bbox_inches = 'tight', dpi = 150)\n",
    "\n",
    "plt.show()"
   ],
   "outputs": [
    {
     "output_type": "display_data",
     "data": {
      "text/plain": [
       "<Figure size 1152x432 with 2 Axes>"
      ],
      "image/png": "[encoded data removed]"
     },
     "metadata": {
      "needs_background": "light"
     }
    }
   ],
   "metadata": {
    "ExecuteTime": {
     "end_time": "2021-08-19T11:11:39.545242Z",
     "start_time": "2021-08-19T11:11:39.077912Z"
    }
   }
  },
  {
   "cell_type": "markdown",
   "source": [
    "As we can see, there is a large number of genes which are expressed in very few cells. You can choose to remove those genes from the analysis. A typical choice is to preserve only genes expressed in at least 10 cells. Or based on the distribution above (on the right), you can choose it to be 16: as log2(16) = 4.\n",
    "\n",
    "You can run: `sc.pp.filter_genes(adata, min_cells=10)` to achieve that."
   ],
   "metadata": {}
  },
  {
   "cell_type": "markdown",
   "source": [
    "In this notebook, we do not set any threshold."
   ],
   "metadata": {}
  },
  {
   "cell_type": "markdown",
   "source": [
    "## Distribution of total counts in each cell"
   ],
   "metadata": {}
  },
  {
   "cell_type": "markdown",
   "source": [
    "Next, we look at the distribution of the total counts (also known as the library size) in each cell. It is stored in `total_counts` in adata."
   ],
   "metadata": {}
  },
  {
   "cell_type": "code",
   "execution_count": 12,
   "source": [
    "fig = plt.figure(figsize = (8*2, 6*1))\n",
    "\n",
    "ax = fig.add_subplot(1, 2, 1)\n",
    "ax.hist(adata.obs['total_counts'], 100);\n",
    "ax.set_xlabel('Total Counts', fontsize = 12)\n",
    "ax.set_ylabel('Frequency', fontsize = 12)\n",
    "\n",
    "ax = fig.add_subplot(1, 2, 2)\n",
    "ax.hist(np.log2(adata.obs['total_counts'] + 1), 100);\n",
    "ax.set_xlabel('log2(Total Counts)', fontsize = 12)\n",
    "ax.set_ylabel('Frequency', fontsize = 12)\n",
    "\n",
    "# Save figure\n",
    "# fig.savefig(path_outdir + 'library_size_distribution.png', bbox_inches = 'tight', dpi = 150)\n",
    "\n",
    "plt.show()"
   ],
   "outputs": [
    {
     "output_type": "display_data",
     "data": {
      "text/plain": [
       "<Figure size 1152x432 with 2 Axes>"
      ],
      "image/png": "[encoded data removed]"
     },
     "metadata": {
      "needs_background": "light"
     }
    }
   ],
   "metadata": {
    "ExecuteTime": {
     "end_time": "2021-08-19T11:11:39.984024Z",
     "start_time": "2021-08-19T11:11:39.546605Z"
    }
   }
  },
  {
   "cell_type": "markdown",
   "source": [
    "The library size distribution can inform you about the quality of cells in the data. Cells with very low library size (around 500) are likely to be empty droplets and not real cells. As such, it can be useful to remove such potential low quality cells. But one needs to be careful to ascertain that these are indeed lower quality cells. For that we recommend you include all the cells and perform some downstream analysis such as visualization and clustering. If these low library size (defined as the total counts in each cell) populations separate out as an independent cluster and do not seem to contribute to overall population then they can be classified as lower quality cells. So, whether to remove them from analysis is a choice that will need to be made gradually during data analysis process. \n",
    "\n",
    "If you decide to remove the lower quality cells, you can run the following code, which will remove cells with lower than 500 total counts. The choice of this threshold can also be inferred from the figure on the right ~9: because log2(512) = 9).\n",
    "\n",
    "`sc.pp.filter_cells(adata, min_counts = 500)`"
   ],
   "metadata": {}
  },
  {
   "cell_type": "markdown",
   "source": [
    "In this notebook, we don't filter out any cells."
   ],
   "metadata": {}
  },
  {
   "cell_type": "markdown",
   "source": [
    "## Mitochondrial content"
   ],
   "metadata": {}
  },
  {
   "cell_type": "markdown",
   "source": [
    "The presence of high mitochondrial gene expression can indicate cells undergoing apoptosis. Therefore, it is of interest to inspect the rate of expression of mitochondrial genes. A typical step in scRNA-seq analysis involves removing cells with high mitochondrial RNA expression. But, whether to do so or not is a context dependent question. Sometimes you might be interested in studying cellular behavior under stress, which inevitably increases expression of mitochondrial content. \n",
    "\n",
    "Here, we provide code to look at mitochondrial content and suggest ways to remove cells with high content."
   ],
   "metadata": {}
  },
  {
   "cell_type": "code",
   "execution_count": 13,
   "source": [
    "# Identify MT-genes\n",
    "mito_genes = [x for x in adata.var.index if x[:3] == 'MT-']"
   ],
   "outputs": [],
   "metadata": {
    "ExecuteTime": {
     "end_time": "2021-08-19T11:11:39.990247Z",
     "start_time": "2021-08-19T11:11:39.985476Z"
    }
   }
  },
  {
   "cell_type": "code",
   "execution_count": 14,
   "source": [
    "print(mito_genes)"
   ],
   "outputs": [
    {
     "output_type": "stream",
     "name": "stdout",
     "text": [
      "['MT-ND1', 'MT-ND2', 'MT-CO1', 'MT-CO2', 'MT-ATP8', 'MT-ATP6', 'MT-CO3', 'MT-ND3', 'MT-ND4', 'MT-ND5', 'MT-ND6', 'MT-CYTB', 'MT-ND4L']\n"
     ]
    }
   ],
   "metadata": {
    "ExecuteTime": {
     "end_time": "2021-08-19T11:11:39.994355Z",
     "start_time": "2021-08-19T11:11:39.991855Z"
    }
   }
  },
  {
   "cell_type": "code",
   "execution_count": 15,
   "source": [
    "location_mito_genes = [adata.var_names.get_loc(j) for j in mito_genes]"
   ],
   "outputs": [],
   "metadata": {
    "ExecuteTime": {
     "end_time": "2021-08-19T11:11:39.998267Z",
     "start_time": "2021-08-19T11:11:39.995829Z"
    }
   }
  },
  {
   "cell_type": "markdown",
   "source": [
    "We define mitochondrial fraction for each cell as the total mitochondrial RNA counts divided by the total counts in that cell."
   ],
   "metadata": {}
  },
  {
   "cell_type": "code",
   "execution_count": 16,
   "source": [
    "mito_frac = np.asarray(\n",
    "    np.sum(adata.X[:, location_mito_genes], axis = 1)/np.sum(adata.X, axis = 1)\n",
    "    ).squeeze() * 100"
   ],
   "outputs": [],
   "metadata": {
    "ExecuteTime": {
     "end_time": "2021-08-19T11:11:40.029727Z",
     "start_time": "2021-08-19T11:11:39.999866Z"
    }
   }
  },
  {
   "cell_type": "code",
   "execution_count": 17,
   "source": [
    "# store mitochondrial fraction onto adata\n",
    "adata.obs['mito_frac'] = mito_frac"
   ],
   "outputs": [],
   "metadata": {
    "ExecuteTime": {
     "end_time": "2021-08-19T11:11:40.034243Z",
     "start_time": "2021-08-19T11:11:40.031161Z"
    }
   }
  },
  {
   "cell_type": "code",
   "execution_count": 18,
   "source": [
    "fig = plt.figure(figsize = (8*2, 6*1))\n",
    "\n",
    "ax = fig.add_subplot(1, 2, 1)\n",
    "ax.hist(mito_frac, 100);\n",
    "ax.set_xlabel('% MT-content', fontsize = 12)\n",
    "ax.set_ylabel('Frequency', fontsize = 12)\n",
    "\n",
    "ax = fig.add_subplot(1, 2, 2)\n",
    "ax.scatter(np.log2(adata.obs['total_counts'] + 1), mito_frac);\n",
    "ax.set_xlabel('log2(Total Counts)', fontsize = 12)\n",
    "ax.set_ylabel('% MT-content', fontsize = 12)\n",
    "\n",
    "# Save figure\n",
    "# fig.savefig(path_outdir + 'mitochondrial_fraction.png', bbox_inches = 'tight', dpi = 150)\n",
    "\n",
    "plt.show()"
   ],
   "outputs": [
    {
     "output_type": "display_data",
     "data": {
      "text/plain": [
       "<Figure size 1152x432 with 2 Axes>"
      ],
      "image/png": "[encoded data removed]"
     },
     "metadata": {
      "needs_background": "light"
     }
    }
   ],
   "metadata": {
    "ExecuteTime": {
     "end_time": "2021-08-19T11:11:40.493323Z",
     "start_time": "2021-08-19T11:11:40.035927Z"
    }
   }
  },
  {
   "cell_type": "markdown",
   "source": [
    "As you can see from the left plot, there are only very cells with substantially high MT-content. And from the figure on the right, you can see that those cells with high MT-content are also the ones with low total counts (or library size). As such, you could argue to remove these high MT-cells. "
   ],
   "metadata": {}
  },
  {
   "cell_type": "markdown",
   "source": [
    "# Highly Variable Gene selection"
   ],
   "metadata": {}
  },
  {
   "cell_type": "markdown",
   "source": [
    "We select top `n` number of highly variable genes for downstream analysis (default=5000)."
   ],
   "metadata": {}
  },
  {
   "cell_type": "code",
   "execution_count": 19,
   "source": [
    "sc.pp.highly_variable_genes(adata, n_top_genes = hvg_n_top_genes, flavor = 'seurat_v3')"
   ],
   "outputs": [],
   "metadata": {
    "ExecuteTime": {
     "end_time": "2021-08-19T11:11:41.624068Z",
     "start_time": "2021-08-19T11:11:40.494850Z"
    }
   }
  },
  {
   "cell_type": "markdown",
   "source": [
    "We can identify the index of the highly variable genes and store them inside adata for later use:"
   ],
   "metadata": {}
  },
  {
   "cell_type": "code",
   "execution_count": 20,
   "source": [
    "adata.uns['id_hvg'] = np.where(adata.var['highly_variable'])[0]"
   ],
   "outputs": [],
   "metadata": {
    "ExecuteTime": {
     "end_time": "2021-08-19T11:11:41.628908Z",
     "start_time": "2021-08-19T11:11:41.625879Z"
    }
   }
  },
  {
   "cell_type": "code",
   "execution_count": 21,
   "source": [
    "adata.uns['id_hvg']"
   ],
   "outputs": [
    {
     "output_type": "execute_result",
     "data": {
      "text/plain": [
       "array([    1,     2,     4, ..., 15195, 15196, 15197])"
      ]
     },
     "metadata": {},
     "execution_count": 21
    }
   ],
   "metadata": {
    "ExecuteTime": {
     "end_time": "2021-08-19T11:11:41.634830Z",
     "start_time": "2021-08-19T11:11:41.630661Z"
    }
   }
  },
  {
   "cell_type": "markdown",
   "source": [
    "We can visualize the selected genes on mean-counts by variance plot:"
   ],
   "metadata": {}
  },
  {
   "cell_type": "code",
   "execution_count": 22,
   "source": [
    "x = np.log2(adata.var['means'] + 1)\n",
    "y = np.log2(adata.var['variances_norm'] + 1)\n",
    "\n",
    "fig, ax = plt.subplots(figsize=(6, 6))\n",
    "\n",
    "ax.scatter(x, y, s = 2)\n",
    "ax.scatter(x[adata.uns['id_hvg']], y[adata.uns['id_hvg']], s = 2, c = 'r')\n",
    "ax.set_xlabel('log2 mean expression')\n",
    "ax.set_ylabel('log2 normalized variance')\n",
    "ax.legend(['All genes', 'HVG'])\n",
    "\n",
    "plt.show()"
   ],
   "outputs": [
    {
     "output_type": "display_data",
     "data": {
      "text/plain": [
       "<Figure size 432x432 with 1 Axes>"
      ],
      "image/png": "[encoded data removed]"
     },
     "metadata": {
      "needs_background": "light"
     }
    }
   ],
   "metadata": {
    "ExecuteTime": {
     "end_time": "2021-08-19T11:11:41.911814Z",
     "start_time": "2021-08-19T11:11:41.639247Z"
    },
    "tags": [
     "hvg"
    ]
   }
  },
  {
   "cell_type": "markdown",
   "source": [
    "# Data Normalization"
   ],
   "metadata": {}
  },
  {
   "cell_type": "markdown",
   "source": [
    "We will perform median library size normalization followed by log transformation. This is the most common data normalization in scRNA-seq data analysis. "
   ],
   "metadata": {}
  },
  {
   "cell_type": "markdown",
   "source": [
    "Since most of our analysis will be on the log transformed data, we will reorganize some of the structure of adata. We will store log transformed data onto adata.X, while the raw counts and normalized counts will be stored as adata.layers."
   ],
   "metadata": {}
  },
  {
   "cell_type": "code",
   "execution_count": 23,
   "source": [
    "# Median library size normalization\n",
    "X_norm = sc.pp.normalize_total(adata, inplace = False)\n",
    "adata.layers['norm_data'] = X_norm['X']"
   ],
   "outputs": [],
   "metadata": {
    "ExecuteTime": {
     "end_time": "2021-08-19T11:11:42.187967Z",
     "start_time": "2021-08-19T11:11:41.913382Z"
    }
   }
  },
  {
   "cell_type": "code",
   "execution_count": 24,
   "source": [
    "adata.layers['raw_data'] = adata.X"
   ],
   "outputs": [],
   "metadata": {
    "ExecuteTime": {
     "end_time": "2021-08-19T11:11:42.191819Z",
     "start_time": "2021-08-19T11:11:42.189547Z"
    }
   }
  },
  {
   "cell_type": "code",
   "execution_count": 25,
   "source": [
    "# Log transformation\n",
    "if type(adata.layers['norm_data']) is sparse.csr.csr_matrix: \n",
    "    adata.X = np.log2(adata.layers['norm_data'].toarray() + 0.1) - np.log2(0.1)\n",
    "else:\n",
    "    adata.X = np.log2(adata.layers['norm_data'] + 0.1) - np.log2(0.1)"
   ],
   "outputs": [],
   "metadata": {
    "ExecuteTime": {
     "end_time": "2021-08-19T11:11:42.611709Z",
     "start_time": "2021-08-19T11:11:42.193477Z"
    }
   }
  },
  {
   "cell_type": "code",
   "execution_count": 26,
   "source": [
    "adata"
   ],
   "outputs": [
    {
     "output_type": "execute_result",
     "data": {
      "text/plain": [
       "AnnData object with n_obs × n_vars = 2593 × 15198\n",
       "    obs: 'n_genes_by_counts', 'log1p_n_genes_by_counts', 'total_counts', 'log1p_total_counts', 'pct_counts_in_top_50_genes', 'pct_counts_in_top_100_genes', 'pct_counts_in_top_200_genes', 'pct_counts_in_top_500_genes', 'mito_frac'\n",
       "    var: 'n_cells_by_counts', 'mean_counts', 'log1p_mean_counts', 'pct_dropout_by_counts', 'total_counts', 'log1p_total_counts', 'highly_variable', 'highly_variable_rank', 'means', 'variances', 'variances_norm'\n",
       "    uns: 'hvg', 'id_hvg'\n",
       "    layers: 'norm_data', 'raw_data'"
      ]
     },
     "metadata": {},
     "execution_count": 26
    }
   ],
   "metadata": {
    "ExecuteTime": {
     "end_time": "2021-08-19T11:11:42.617151Z",
     "start_time": "2021-08-19T11:11:42.613429Z"
    }
   }
  },
  {
   "cell_type": "markdown",
   "source": [
    "# Dimensionality reduction"
   ],
   "metadata": {}
  },
  {
   "cell_type": "markdown",
   "source": [
    "## PCA"
   ],
   "metadata": {}
  },
  {
   "cell_type": "markdown",
   "source": [
    "We first perform PCA on the highly variable genes."
   ],
   "metadata": {}
  },
  {
   "cell_type": "code",
   "execution_count": 27,
   "source": [
    "sc.tl.pca(adata, n_comps = pca_n_comps, use_highly_variable = True)"
   ],
   "outputs": [
    {
     "output_type": "stream",
     "name": "stderr",
     "text": [
      "/Users/chunj/opt/miniconda3/envs/dev/lib/python3.7/site-packages/anndata/_core/anndata.py:1094: FutureWarning: is_categorical is deprecated and will be removed in a future version.  Use is_categorical_dtype instead\n",
      "  if not is_categorical(df_full[k]):\n"
     ]
    }
   ],
   "metadata": {
    "ExecuteTime": {
     "end_time": "2021-08-19T11:11:43.687973Z",
     "start_time": "2021-08-19T11:11:42.618652Z"
    }
   }
  },
  {
   "cell_type": "code",
   "execution_count": 28,
   "source": [
    "adata"
   ],
   "outputs": [
    {
     "output_type": "execute_result",
     "data": {
      "text/plain": [
       "AnnData object with n_obs × n_vars = 2593 × 15198\n",
       "    obs: 'n_genes_by_counts', 'log1p_n_genes_by_counts', 'total_counts', 'log1p_total_counts', 'pct_counts_in_top_50_genes', 'pct_counts_in_top_100_genes', 'pct_counts_in_top_200_genes', 'pct_counts_in_top_500_genes', 'mito_frac'\n",
       "    var: 'n_cells_by_counts', 'mean_counts', 'log1p_mean_counts', 'pct_dropout_by_counts', 'total_counts', 'log1p_total_counts', 'highly_variable', 'highly_variable_rank', 'means', 'variances', 'variances_norm'\n",
       "    uns: 'hvg', 'id_hvg', 'pca'\n",
       "    obsm: 'X_pca'\n",
       "    varm: 'PCs'\n",
       "    layers: 'norm_data', 'raw_data'"
      ]
     },
     "metadata": {},
     "execution_count": 28
    }
   ],
   "metadata": {
    "ExecuteTime": {
     "end_time": "2021-08-19T11:11:43.693445Z",
     "start_time": "2021-08-19T11:11:43.689600Z"
    }
   }
  },
  {
   "cell_type": "markdown",
   "source": [
    "As we can see, the principal components are stored in `adata.obsm['X_pca']`, the associated loadings are stored in `adata.varm['PCs']`, and the variance/variance-ratio explained by each components is saved in `adata.uns['pca']`."
   ],
   "metadata": {}
  },
  {
   "cell_type": "code",
   "execution_count": 29,
   "source": [
    "# Visualize variance explained:\n",
    "fig, ax = plt.subplots(figsize=(6, 6))\n",
    "\n",
    "ax.plot(\n",
    "    range(len(adata.uns['pca']['variance_ratio'])), \n",
    "    np.cumsum(adata.uns['pca']['variance_ratio']) * 100,\n",
    "    '.-'\n",
    ")\n",
    "ax.set_xlabel('Principal Component')\n",
    "ax.set_ylabel('% Variance Explained')\n",
    "\n",
    "plt.show()"
   ],
   "outputs": [
    {
     "output_type": "display_data",
     "data": {
      "text/plain": [
       "<Figure size 432x432 with 1 Axes>"
      ],
      "image/png": "[encoded data removed]"
     },
     "metadata": {
      "needs_background": "light"
     }
    }
   ],
   "metadata": {
    "ExecuteTime": {
     "end_time": "2021-08-19T11:11:43.814666Z",
     "start_time": "2021-08-19T11:11:43.695316Z"
    }
   }
  },
  {
   "cell_type": "markdown",
   "source": [
    "The above plot suggests that the top 50 principal components explain > 40% of the variance in the data."
   ],
   "metadata": {}
  },
  {
   "cell_type": "markdown",
   "source": [
    "## Nearest neighbors, UMAP"
   ],
   "metadata": {}
  },
  {
   "cell_type": "markdown",
   "source": [
    "We compute k-nearest neighbor graph on the computed PCA."
   ],
   "metadata": {}
  },
  {
   "cell_type": "code",
   "execution_count": 30,
   "source": [
    "sc.pp.neighbors(adata, n_neighbors = n_neighbors, use_rep = 'X_pca', random_state = 0)"
   ],
   "outputs": [],
   "metadata": {
    "ExecuteTime": {
     "end_time": "2021-08-19T11:11:45.878784Z",
     "start_time": "2021-08-19T11:11:43.815880Z"
    }
   }
  },
  {
   "cell_type": "code",
   "execution_count": 31,
   "source": [
    "adata.varm[\"PCs\"].shape"
   ],
   "outputs": [
    {
     "output_type": "execute_result",
     "data": {
      "text/plain": [
       "(15198, 50)"
      ]
     },
     "metadata": {},
     "execution_count": 31
    }
   ],
   "metadata": {
    "ExecuteTime": {
     "end_time": "2021-08-19T11:11:45.883648Z",
     "start_time": "2021-08-19T11:11:45.880237Z"
    }
   }
  },
  {
   "cell_type": "markdown",
   "source": [
    "The output of the nearest neighbor graph is stored in `adata.obsp['distances']`: nearest neighbor distance graph - and `adata.obsp['connectivities']`: nearest neighbor affinity graph. "
   ],
   "metadata": {}
  },
  {
   "cell_type": "markdown",
   "source": [
    "We now can run UMAP on the computed nearest graph, which will be stored in `adata.obsm['X_umap']`."
   ],
   "metadata": {}
  },
  {
   "cell_type": "code",
   "execution_count": 32,
   "source": [
    "sc.tl.umap(adata, min_dist = 0.1)"
   ],
   "outputs": [],
   "metadata": {
    "ExecuteTime": {
     "end_time": "2021-08-19T11:11:50.505324Z",
     "start_time": "2021-08-19T11:11:45.885232Z"
    }
   }
  },
  {
   "cell_type": "code",
   "execution_count": 33,
   "source": [
    "adata"
   ],
   "outputs": [
    {
     "output_type": "execute_result",
     "data": {
      "text/plain": [
       "AnnData object with n_obs × n_vars = 2593 × 15198\n",
       "    obs: 'n_genes_by_counts', 'log1p_n_genes_by_counts', 'total_counts', 'log1p_total_counts', 'pct_counts_in_top_50_genes', 'pct_counts_in_top_100_genes', 'pct_counts_in_top_200_genes', 'pct_counts_in_top_500_genes', 'mito_frac'\n",
       "    var: 'n_cells_by_counts', 'mean_counts', 'log1p_mean_counts', 'pct_dropout_by_counts', 'total_counts', 'log1p_total_counts', 'highly_variable', 'highly_variable_rank', 'means', 'variances', 'variances_norm'\n",
       "    uns: 'hvg', 'id_hvg', 'pca', 'neighbors', 'umap'\n",
       "    obsm: 'X_pca', 'X_umap'\n",
       "    varm: 'PCs'\n",
       "    layers: 'norm_data', 'raw_data'\n",
       "    obsp: 'distances', 'connectivities'"
      ]
     },
     "metadata": {},
     "execution_count": 33
    }
   ],
   "metadata": {
    "ExecuteTime": {
     "end_time": "2021-08-19T11:11:50.510404Z",
     "start_time": "2021-08-19T11:11:50.506774Z"
    }
   }
  },
  {
   "cell_type": "markdown",
   "source": [
    " ## Visualize some metadata onto UMAP"
   ],
   "metadata": {}
  },
  {
   "cell_type": "code",
   "execution_count": 34,
   "source": [
    "adata"
   ],
   "outputs": [
    {
     "output_type": "execute_result",
     "data": {
      "text/plain": [
       "AnnData object with n_obs × n_vars = 2593 × 15198\n",
       "    obs: 'n_genes_by_counts', 'log1p_n_genes_by_counts', 'total_counts', 'log1p_total_counts', 'pct_counts_in_top_50_genes', 'pct_counts_in_top_100_genes', 'pct_counts_in_top_200_genes', 'pct_counts_in_top_500_genes', 'mito_frac'\n",
       "    var: 'n_cells_by_counts', 'mean_counts', 'log1p_mean_counts', 'pct_dropout_by_counts', 'total_counts', 'log1p_total_counts', 'highly_variable', 'highly_variable_rank', 'means', 'variances', 'variances_norm'\n",
       "    uns: 'hvg', 'id_hvg', 'pca', 'neighbors', 'umap'\n",
       "    obsm: 'X_pca', 'X_umap'\n",
       "    varm: 'PCs'\n",
       "    layers: 'norm_data', 'raw_data'\n",
       "    obsp: 'distances', 'connectivities'"
      ]
     },
     "metadata": {},
     "execution_count": 34
    }
   ],
   "metadata": {
    "ExecuteTime": {
     "end_time": "2021-08-19T11:11:50.515742Z",
     "start_time": "2021-08-19T11:11:50.511982Z"
    }
   }
  },
  {
   "cell_type": "code",
   "execution_count": 35,
   "source": [
    "fig = sc.pl.umap(adata, color = ['log1p_total_counts', 'log1p_n_genes_by_counts', 'mito_frac'], size = 30,\n",
    "           frameon = False, ncols = 2, return_fig = True)\n",
    "\n",
    "# Save figure:\n",
    "# fig.savefig(os.path.join(path_outdir, 'metadata_on_UMAP.png'), bbox_inches = 'tight', dpi = 150)"
   ],
   "outputs": [
    {
     "output_type": "display_data",
     "data": {
      "text/plain": [
       "<Figure size 989.28x576 with 6 Axes>"
      ],
      "image/png": "[encoded data removed]"
     },
     "metadata": {
      "needs_background": "light"
     }
    }
   ],
   "metadata": {
    "ExecuteTime": {
     "end_time": "2021-08-19T11:11:50.854045Z",
     "start_time": "2021-08-19T11:11:50.517382Z"
    }
   }
  },
  {
   "cell_type": "markdown",
   "source": [
    "# Cluster"
   ],
   "metadata": {}
  },
  {
   "cell_type": "markdown",
   "source": [
    "We now cluster the cells using PhenoGraph. The optimal `k` value will be found through `KOptimizer`."
   ],
   "metadata": {}
  },
  {
   "cell_type": "code",
   "execution_count": 36,
   "source": [
    "ks = np.arange(10, 77, 3)  # This is the range of k values we will look at"
   ],
   "outputs": [],
   "metadata": {
    "ExecuteTime": {
     "end_time": "2021-08-19T11:11:50.857351Z",
     "start_time": "2021-08-19T11:11:50.855263Z"
    }
   }
  },
  {
   "cell_type": "code",
   "execution_count": 37,
   "source": [
    "koptimizer = KOptimizer()\n",
    "\n",
    "optimal_k = koptimizer.find_k(\n",
    "    data = adata.obsm['X_pca'], k0=ks[0],\n",
    "    verbose=True, display=True\n",
    ")"
   ],
   "outputs": [
    {
     "output_type": "stream",
     "name": "stdout",
     "text": [
      "Calculating for k: 10... Min. Rand Index is: 0.6406814043511511\n",
      "Calculating for k: 15.... Min. Rand Index is: 0.6005972379996016\n",
      "Calculating for k: 20.... Min. Rand Index is: 0.8659647409681555\n",
      "Calculating for k: 25.... Min. Rand Index is: 0.8760574147873522\n",
      "Calculating for k: 30.... Min. Rand Index is: 0.8671273086213529\n",
      "Calculating for k: 35.... Min. Rand Index is: 0.9022769133748461\n",
      "Discovered optimal k: 35\n",
      "Min. Rand Index for 35: 0.9022769133748461\n"
     ]
    },
    {
     "output_type": "display_data",
     "data": {
      "text/plain": [
       "<Figure size 576x576 with 2 Axes>"
      ],
      "image/png": "[encoded data removed]"
     },
     "metadata": {
      "needs_background": "light"
     }
    }
   ],
   "metadata": {
    "ExecuteTime": {
     "end_time": "2021-08-19T11:12:05.989137Z",
     "start_time": "2021-08-19T11:11:50.858613Z"
    }
   }
  },
  {
   "cell_type": "code",
   "execution_count": 38,
   "source": [
    "cluster, Q, graph = phenograph.cluster(adata.obsm['X_pca'], k = optimal_k)"
   ],
   "outputs": [
    {
     "output_type": "stream",
     "name": "stdout",
     "text": [
      "Finding 35 nearest neighbors using minkowski metric and 'auto' algorithm\n",
      "Neighbors computed in 0.11122608184814453 seconds\n",
      "Jaccard graph constructed in 0.37767481803894043 seconds\n",
      "Wrote graph to binary file in 0.4100968837738037 seconds\n",
      "Running Louvain modularity optimization\n",
      "After 1 runs, maximum modularity is Q = 0.876703\n",
      "After 2 runs, maximum modularity is Q = 0.878605\n",
      "Louvain completed 22 runs in 1.0301880836486816 seconds\n",
      "Sorting communities by size, please wait ...\n",
      "PhenoGraph completed in 2.1363282203674316 seconds\n"
     ]
    }
   ],
   "metadata": {
    "ExecuteTime": {
     "end_time": "2021-08-19T11:12:08.133887Z",
     "start_time": "2021-08-19T11:12:05.991364Z"
    }
   }
  },
  {
   "cell_type": "code",
   "execution_count": 39,
   "source": [
    "adata.obs['Clusters'] = pd.Categorical(cluster)"
   ],
   "outputs": [],
   "metadata": {
    "ExecuteTime": {
     "end_time": "2021-08-19T11:12:08.142443Z",
     "start_time": "2021-08-19T11:12:08.136844Z"
    }
   }
  },
  {
   "cell_type": "code",
   "execution_count": 40,
   "source": [
    "fig = sc.pl.umap(adata, color = ['Clusters'], size = 50, frameon = False, return_fig = True)\n",
    "\n",
    "# Save figure:\n",
    "# fig.savefig(os.path.join(path_outdir, 'clusters_on_UMAP.png'), bbox_inches = 'tight', dpi = 150)"
   ],
   "outputs": [
    {
     "output_type": "display_data",
     "data": {
      "text/plain": [
       "<Figure size 432x288 with 1 Axes>"
      ],
      "image/png": "[encoded data removed]"
     },
     "metadata": {}
    }
   ],
   "metadata": {
    "ExecuteTime": {
     "end_time": "2021-08-19T11:12:08.565247Z",
     "start_time": "2021-08-19T11:12:08.144526Z"
    },
    "tags": [
     "cluster"
    ]
   }
  },
  {
   "cell_type": "markdown",
   "source": [
    "# Write h5ad to Disk"
   ],
   "metadata": {}
  },
  {
   "cell_type": "code",
   "execution_count": 41,
   "source": [
    "adata.write_h5ad(\n",
    "    os.path.join(path_outdir, f\"{sample_name}_normalized.h5ad\")\n",
    ")"
   ],
   "outputs": [],
   "metadata": {
    "ExecuteTime": {
     "end_time": "2021-08-19T11:12:09.429048Z",
     "start_time": "2021-08-19T11:12:08.566810Z"
    }
   }
  },
  {
   "cell_type": "code",
   "execution_count": null,
   "source": [],
   "outputs": [],
   "metadata": {}
  }
 ],
 "metadata": {
  "kernelspec": {
   "display_name": "Python 3",
   "language": "python",
   "name": "python3"
  },
  "language_info": {
   "codemirror_mode": {
    "name": "ipython",
    "version": 3
   },
   "file_extension": ".py",
   "mimetype": "text/x-python",
   "name": "python",
   "nbconvert_exporter": "python",
   "pygments_lexer": "ipython3",
   "version": "3.7.7"
  },
  "toc": {
   "base_numbering": 1,
   "nav_menu": {},
   "number_sections": true,
   "sideBar": true,
   "skip_h1_title": false,
   "title_cell": "Table of Contents",
   "title_sidebar": "Contents",
   "toc_cell": false,
   "toc_position": {},
   "toc_section_display": true,
   "toc_window_display": true
  }
 },
 "nbformat": 4,
 "nbformat_minor": 4
}