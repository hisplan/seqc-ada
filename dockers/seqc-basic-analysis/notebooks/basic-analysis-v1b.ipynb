{
 "cells": [
  {
   "cell_type": "markdown",
   "metadata": {},
   "source": [
    "# Introduction"
   ]
  },
  {
   "cell_type": "markdown",
   "metadata": {},
   "source": [
    "Once the sequenced reads are processed using SEQC, this automated notebook is run to visualize and obtain some basic information about the data.\n",
    "\n",
    "This notebook loads the SEQC filtered output, normalized the count matrix, performs dimensionality reduction, visualizes the cells, clusters the cells and performs differential expression to identify enriched genes in each cluster. "
   ]
  },
  {
   "cell_type": "markdown",
   "metadata": {},
   "source": [
    "## Import packages"
   ]
  },
  {
   "cell_type": "code",
   "execution_count": 1,
   "metadata": {
    "ExecuteTime": {
     "end_time": "2021-08-19T11:11:37.246660Z",
     "start_time": "2021-08-19T11:11:35.270703Z"
    }
   },
   "outputs": [],
   "source": [
    "import os\n",
    "import scanpy as sc\n",
    "import numpy as np\n",
    "import matplotlib.pyplot as plt\n",
    "import pandas as pd\n",
    "import anndata\n",
    "from scipy import sparse\n",
    "import phenograph\n",
    "\n",
    "from get_optimal_k import KOptimizer"
   ]
  },
  {
   "cell_type": "code",
   "execution_count": 2,
   "metadata": {
    "ExecuteTime": {
     "end_time": "2021-08-19T11:11:38.116448Z",
     "start_time": "2021-08-19T11:11:37.248569Z"
    }
   },
   "outputs": [
    {
     "name": "stdout",
     "output_type": "stream",
     "text": [
      "scanpy==1.8.1 anndata==0.7.6 umap==0.5.1 numpy==1.21.2 scipy==1.7.1 pandas==1.3.2 scikit-learn==0.24.2 statsmodels==0.12.2 python-igraph==0.9.6 louvain==0.7.0 pynndescent==0.5.4\n"
     ]
    }
   ],
   "source": [
    "sc.logging.print_header()"
   ]
  },
  {
   "cell_type": "markdown",
   "metadata": {},
   "source": [
    "## Parameters"
   ]
  },
  {
   "cell_type": "code",
   "execution_count": 3,
   "metadata": {
    "ExecuteTime": {
     "end_time": "2021-08-19T11:11:38.120894Z",
     "start_time": "2021-08-19T11:11:38.118056Z"
    },
    "tags": [
     "parameters"
    ]
   },
   "outputs": [],
   "source": [
    "# This parameters cell will be overridden by values specified at execution time.\n",
    "################################################################################\n",
    "\n",
    "sample_name = \"2_DT_2_CD45plus\"\n",
    "path_raw_adata = \"/test/2_DT_2_CD45plus.raw.h5ad\"\n",
    "path_filtered_adata = \"/test/2_DT_2_CD45plus.filtered.h5ad\"\n",
    "\n",
    "path_outdir = \"/test/outputs/\"\n",
    "path_rb_gene_list = \"./RB_genes_human.txt\"\n",
    "\n",
    "hvg_n_top_genes = 5000\n",
    "pca_n_comps = 50\n",
    "n_neighbors = 30"
   ]
  },
  {
   "cell_type": "code",
   "execution_count": 4,
   "metadata": {
    "ExecuteTime": {
     "end_time": "2021-08-19T11:11:38.124627Z",
     "start_time": "2021-08-19T11:11:38.122393Z"
    }
   },
   "outputs": [],
   "source": [
    "os.makedirs(path_outdir, exist_ok=True)"
   ]
  },
  {
   "cell_type": "markdown",
   "metadata": {},
   "source": [
    "# Load data "
   ]
  },
  {
   "cell_type": "code",
   "execution_count": 5,
   "metadata": {
    "ExecuteTime": {
     "end_time": "2021-08-19T11:11:38.376205Z",
     "start_time": "2021-08-19T11:11:38.126266Z"
    }
   },
   "outputs": [],
   "source": [
    "adata = sc.read_h5ad(path_filtered_adata)"
   ]
  },
  {
   "cell_type": "code",
   "execution_count": 6,
   "metadata": {
    "ExecuteTime": {
     "end_time": "2021-08-19T11:11:38.387325Z",
     "start_time": "2021-08-19T11:11:38.377804Z"
    }
   },
   "outputs": [
    {
     "data": {
      "text/html": [
       "<div>\n",
       "<style scoped>\n",
       "    .dataframe tbody tr th:only-of-type {\n",
       "        vertical-align: middle;\n",
       "    }\n",
       "\n",
       "    .dataframe tbody tr th {\n",
       "        vertical-align: top;\n",
       "    }\n",
       "\n",
       "    .dataframe thead th {\n",
       "        text-align: right;\n",
       "    }\n",
       "</style>\n",
       "<table border=\"1\" class=\"dataframe\">\n",
       "  <thead>\n",
       "    <tr style=\"text-align: right;\">\n",
       "      <th></th>\n",
       "    </tr>\n",
       "  </thead>\n",
       "  <tbody>\n",
       "    <tr>\n",
       "      <th>120703424257380</th>\n",
       "    </tr>\n",
       "    <tr>\n",
       "      <th>120703455455644</th>\n",
       "    </tr>\n",
       "    <tr>\n",
       "      <th>120703455480742</th>\n",
       "    </tr>\n",
       "    <tr>\n",
       "      <th>120726897191836</th>\n",
       "    </tr>\n",
       "    <tr>\n",
       "      <th>120726912354163</th>\n",
       "    </tr>\n",
       "  </tbody>\n",
       "</table>\n",
       "</div>"
      ],
      "text/plain": [
       "Empty DataFrame\n",
       "Columns: []\n",
       "Index: [120703424257380, 120703455455644, 120703455480742, 120726897191836, 120726912354163]"
      ]
     },
     "execution_count": 6,
     "metadata": {},
     "output_type": "execute_result"
    }
   ],
   "source": [
    "# View the cell barcodes:\n",
    "adata.obs.head()"
   ]
  },
  {
   "cell_type": "code",
   "execution_count": 7,
   "metadata": {
    "ExecuteTime": {
     "end_time": "2021-08-19T11:11:38.395626Z",
     "start_time": "2021-08-19T11:11:38.390109Z"
    }
   },
   "outputs": [
    {
     "data": {
      "text/html": [
       "<div>\n",
       "<style scoped>\n",
       "    .dataframe tbody tr th:only-of-type {\n",
       "        vertical-align: middle;\n",
       "    }\n",
       "\n",
       "    .dataframe tbody tr th {\n",
       "        vertical-align: top;\n",
       "    }\n",
       "\n",
       "    .dataframe thead th {\n",
       "        text-align: right;\n",
       "    }\n",
       "</style>\n",
       "<table border=\"1\" class=\"dataframe\">\n",
       "  <thead>\n",
       "    <tr style=\"text-align: right;\">\n",
       "      <th></th>\n",
       "    </tr>\n",
       "  </thead>\n",
       "  <tbody>\n",
       "    <tr>\n",
       "      <th>GNAI3</th>\n",
       "    </tr>\n",
       "    <tr>\n",
       "      <th>CDC45</th>\n",
       "    </tr>\n",
       "    <tr>\n",
       "      <th>APOH</th>\n",
       "    </tr>\n",
       "    <tr>\n",
       "      <th>NARF</th>\n",
       "    </tr>\n",
       "    <tr>\n",
       "      <th>CAV2</th>\n",
       "    </tr>\n",
       "  </tbody>\n",
       "</table>\n",
       "</div>"
      ],
      "text/plain": [
       "Empty DataFrame\n",
       "Columns: []\n",
       "Index: [GNAI3, CDC45, APOH, NARF, CAV2]"
      ]
     },
     "execution_count": 7,
     "metadata": {},
     "output_type": "execute_result"
    }
   ],
   "source": [
    "# View the gene names:\n",
    "adata.var.head()"
   ]
  },
  {
   "cell_type": "markdown",
   "metadata": {},
   "source": [
    "# QC"
   ]
  },
  {
   "cell_type": "code",
   "execution_count": 8,
   "metadata": {
    "ExecuteTime": {
     "end_time": "2021-08-19T11:11:38.401273Z",
     "start_time": "2021-08-19T11:11:38.397794Z"
    }
   },
   "outputs": [
    {
     "data": {
      "text/plain": [
       "AnnData object with n_obs × n_vars = 2593 × 15198"
      ]
     },
     "execution_count": 8,
     "metadata": {},
     "output_type": "execute_result"
    }
   ],
   "source": [
    "adata"
   ]
  },
  {
   "cell_type": "code",
   "execution_count": 9,
   "metadata": {
    "ExecuteTime": {
     "end_time": "2021-08-19T11:11:39.071242Z",
     "start_time": "2021-08-19T11:11:38.402928Z"
    }
   },
   "outputs": [],
   "source": [
    "# This line of code automatically computes some of the essential QC metrics\n",
    "sc.pp.calculate_qc_metrics(adata, inplace = True)"
   ]
  },
  {
   "cell_type": "code",
   "execution_count": 10,
   "metadata": {
    "ExecuteTime": {
     "end_time": "2021-08-19T11:11:39.076258Z",
     "start_time": "2021-08-19T11:11:39.072869Z"
    }
   },
   "outputs": [
    {
     "data": {
      "text/plain": [
       "AnnData object with n_obs × n_vars = 2593 × 15198\n",
       "    obs: 'n_genes_by_counts', 'log1p_n_genes_by_counts', 'total_counts', 'log1p_total_counts', 'pct_counts_in_top_50_genes', 'pct_counts_in_top_100_genes', 'pct_counts_in_top_200_genes', 'pct_counts_in_top_500_genes'\n",
       "    var: 'n_cells_by_counts', 'mean_counts', 'log1p_mean_counts', 'pct_dropout_by_counts', 'total_counts', 'log1p_total_counts'"
      ]
     },
     "execution_count": 10,
     "metadata": {},
     "output_type": "execute_result"
    }
   ],
   "source": [
    "adata"
   ]
  },
  {
   "cell_type": "markdown",
   "metadata": {},
   "source": [
    "## Distribution of gene counts"
   ]
  },
  {
   "cell_type": "markdown",
   "metadata": {},
   "source": [
    "First, we look at the distribution of the total number of cells each gene is expressed in. It is stored in `n_cells_by_counts` in adata."
   ]
  },
  {
   "cell_type": "code",
   "execution_count": 11,
   "metadata": {
    "ExecuteTime": {
     "end_time": "2021-08-19T11:11:39.545242Z",
     "start_time": "2021-08-19T11:11:39.077912Z"
    }
   },
   "outputs": [
    {
     "data": {
      "image/png": "[encoded data removed]",
      "text/plain": [
       "<Figure size 1152x432 with 2 Axes>"
      ]
     },
     "metadata": {
      "needs_background": "light"
     },
     "output_type": "display_data"
    }
   ],
   "source": [
    "fig = plt.figure(figsize = (8*2, 6*1))\n",
    "\n",
    "ax = fig.add_subplot(1, 2, 1)\n",
    "ax.hist(adata.var['n_cells_by_counts'], 100);\n",
    "ax.set_xlabel('Number of cells each gene is expressed in', fontsize = 12)\n",
    "ax.set_ylabel('Frequency', fontsize = 12)\n",
    "\n",
    "ax = fig.add_subplot(1, 2, 2)\n",
    "ax.hist(np.log2(adata.var['n_cells_by_counts'] + 1), 100);\n",
    "ax.set_xlabel('log2(Number of cells each gene is expressed in)', fontsize = 12)\n",
    "ax.set_ylabel('Frequency', fontsize = 12)\n",
    "\n",
    "# Save figure\n",
    "# fig.savefig(path_outdir + 'distr_gene_expression.png', bbox_inches = 'tight', dpi = 150)\n",
    "\n",
    "plt.show()"
   ]
  },
  {
   "cell_type": "markdown",
   "metadata": {},
   "source": [
    "As we can see, there is a large number of genes which are expressed in very few cells. You can choose to remove those genes from the analysis. A typical choice is to preserve only genes expressed in at least 10 cells. Or based on the distribution above (on the right), you can choose it to be 16: as log2(16) = 4.\n",
    "\n",
    "You can run: `sc.pp.filter_genes(adata, min_cells=10)` to achieve that."
   ]
  },
  {
   "cell_type": "markdown",
   "metadata": {},
   "source": [
    "In this notebook, we do not set any threshold."
   ]
  },
  {
   "cell_type": "markdown",
   "metadata": {},
   "source": [
    "## Distribution of total counts in each cell"
   ]
  },
  {
   "cell_type": "markdown",
   "metadata": {},
   "source": [
    "Next, we look at the distribution of the total counts (also known as the library size) in each cell. It is stored in `total_counts` in adata."
   ]
  },
  {
   "cell_type": "code",
   "execution_count": 12,
   "metadata": {
    "ExecuteTime": {
     "end_time": "2021-08-19T11:11:39.984024Z",
     "start_time": "2021-08-19T11:11:39.546605Z"
    }
   },
   "outputs": [
    {
     "data": {
      "image/png": "[encoded data removed]",
      "text/plain": [
       "<Figure size 1152x432 with 2 Axes>"
      ]
     },
     "metadata": {
      "needs_background": "light"
     },
     "output_type": "display_data"
    }
   ],
   "source": [
    "fig = plt.figure(figsize = (8*2, 6*1))\n",
    "\n",
    "ax = fig.add_subplot(1, 2, 1)\n",
    "ax.hist(adata.obs['total_counts'], 100);\n",
    "ax.set_xlabel('Total Counts', fontsize = 12)\n",
    "ax.set_ylabel('Frequency', fontsize = 12)\n",
    "\n",
    "ax = fig.add_subplot(1, 2, 2)\n",
    "ax.hist(np.log2(adata.obs['total_counts'] + 1), 100);\n",
    "ax.set_xlabel('log2(Total Counts)', fontsize = 12)\n",
    "ax.set_ylabel('Frequency', fontsize = 12)\n",
    "\n",
    "# Save figure\n",
    "# fig.savefig(path_outdir + 'library_size_distribution.png', bbox_inches = 'tight', dpi = 150)\n",
    "\n",
    "plt.show()"
   ]
  },
  {
   "cell_type": "markdown",
   "metadata": {},
   "source": [
    "The library size distribution can inform you about the quality of cells in the data. Cells with very low library size (around 500) are likely to be empty droplets and not real cells. As such, it can be useful to remove such potential low quality cells. But one needs to be careful to ascertain that these are indeed lower quality cells. For that we recommend you include all the cells and perform some downstream analysis such as visualization and clustering. If these low library size (defined as the total counts in each cell) populations separate out as an independent cluster and do not seem to contribute to overall population then they can be classified as lower quality cells. So, whether to remove them from analysis is a choice that will need to be made gradually during data analysis process. \n",
    "\n",
    "If you decide to remove the lower quality cells, you can run the following code, which will remove cells with lower than 500 total counts. The choice of this threshold can also be inferred from the figure on the right ~9: because log2(512) = 9).\n",
    "\n",
    "`sc.pp.filter_cells(adata, min_counts = 500)`"
   ]
  },
  {
   "cell_type": "markdown",
   "metadata": {},
   "source": [
    "In this notebook, we don't filter out any cells."
   ]
  },
  {
   "cell_type": "markdown",
   "metadata": {},
   "source": [
    "## Mitochondrial content"
   ]
  },
  {
   "cell_type": "markdown",
   "metadata": {},
   "source": [
    "The presence of high mitochondrial gene expression can indicate cells undergoing apoptosis. Therefore, it is of interest to inspect the rate of expression of mitochondrial genes. A typical step in scRNA-seq analysis involves removing cells with high mitochondrial RNA expression. But, whether to do so or not is a context dependent question. Sometimes you might be interested in studying cellular behavior under stress, which inevitably increases expression of mitochondrial content. \n",
    "\n",
    "Here, we provide code to look at mitochondrial content and suggest ways to remove cells with high content."
   ]
  },
  {
   "cell_type": "code",
   "execution_count": 13,
   "metadata": {
    "ExecuteTime": {
     "end_time": "2021-08-19T11:11:39.990247Z",
     "start_time": "2021-08-19T11:11:39.985476Z"
    }
   },
   "outputs": [],
   "source": [
    "# Identify MT-genes\n",
    "mito_genes = [x for x in adata.var.index if x[:3] == 'MT-']"
   ]
  },
  {
   "cell_type": "code",
   "execution_count": 14,
   "metadata": {
    "ExecuteTime": {
     "end_time": "2021-08-19T11:11:39.994355Z",
     "start_time": "2021-08-19T11:11:39.991855Z"
    }
   },
   "outputs": [
    {
     "name": "stdout",
     "output_type": "stream",
     "text": [
      "['MT-ND1', 'MT-ND2', 'MT-CO1', 'MT-CO2', 'MT-ATP8', 'MT-ATP6', 'MT-CO3', 'MT-ND3', 'MT-ND4', 'MT-ND5', 'MT-ND6', 'MT-CYTB', 'MT-ND4L']\n"
     ]
    }
   ],
   "source": [
    "print(mito_genes)"
   ]
  },
  {
   "cell_type": "code",
   "execution_count": 15,
   "metadata": {
    "ExecuteTime": {
     "end_time": "2021-08-19T11:11:39.998267Z",
     "start_time": "2021-08-19T11:11:39.995829Z"
    }
   },
   "outputs": [],
   "source": [
    "location_mito_genes = [adata.var_names.get_loc(j) for j in mito_genes]"
   ]
  },
  {
   "cell_type": "markdown",
   "metadata": {},
   "source": [
    "We define mitochondrial fraction for each cell as the total mitochondrial RNA counts divided by the total counts in that cell."
   ]
  },
  {
   "cell_type": "code",
   "execution_count": 16,
   "metadata": {
    "ExecuteTime": {
     "end_time": "2021-08-19T11:11:40.029727Z",
     "start_time": "2021-08-19T11:11:39.999866Z"
    }
   },
   "outputs": [],
   "source": [
    "mito_frac = np.asarray(\n",
    "    np.sum(adata.X[:, location_mito_genes], axis = 1)/np.sum(adata.X, axis = 1)\n",
    "    ).squeeze() * 100"
   ]
  },
  {
   "cell_type": "code",
   "execution_count": 17,
   "metadata": {
    "ExecuteTime": {
     "end_time": "2021-08-19T11:11:40.034243Z",
     "start_time": "2021-08-19T11:11:40.031161Z"
    }
   },
   "outputs": [],
   "source": [
    "# store mitochondrial fraction onto adata\n",
    "adata.obs['mito_frac'] = mito_frac"
   ]
  },
  {
   "cell_type": "code",
   "execution_count": 18,
   "metadata": {
    "ExecuteTime": {
     "end_time": "2021-08-19T11:11:40.493323Z",
     "start_time": "2021-08-19T11:11:40.035927Z"
    }
   },
   "outputs": [
    {
     "data": {
      "image/png": "[encoded data removed]",
      "text/plain": [
       "<Figure size 1152x432 with 2 Axes>"
      ]
     },
     "metadata": {
      "needs_background": "light"
     },
     "output_type": "display_data"
    }
   ],
   "source": [
    "fig = plt.figure(figsize = (8*2, 6*1))\n",
    "\n",
    "ax = fig.add_subplot(1, 2, 1)\n",
    "ax.hist(mito_frac, 100);\n",
    "ax.set_xlabel('% MT-content', fontsize = 12)\n",
    "ax.set_ylabel('Frequency', fontsize = 12)\n",
    "\n",
    "ax = fig.add_subplot(1, 2, 2)\n",
    "ax.scatter(np.log2(adata.obs['total_counts'] + 1), mito_frac);\n",
    "ax.set_xlabel('log2(Total Counts)', fontsize = 12)\n",
    "ax.set_ylabel('% MT-content', fontsize = 12)\n",
    "\n",
    "# Save figure\n",
    "# fig.savefig(path_outdir + 'mitochondrial_fraction.png', bbox_inches = 'tight', dpi = 150)\n",
    "\n",
    "plt.show()"
   ]
  },
  {
   "cell_type": "markdown",
   "metadata": {},
   "source": [
    "As you can see from the left plot, there are only very cells with substantially high MT-content. And from the figure on the right, you can see that those cells with high MT-content are also the ones with low total counts (or library size). As such, you could argue to remove these high MT-cells. "
   ]
  },
  {
   "cell_type": "markdown",
   "metadata": {},
   "source": [
    "# Highly Variable Gene selection"
   ]
  },
  {
   "cell_type": "markdown",
   "metadata": {},
   "source": [
    "We select top `n` number of highly variable genes for downstream analysis (default=5000)."
   ]
  },
  {
   "cell_type": "code",
   "execution_count": 19,
   "metadata": {
    "ExecuteTime": {
     "end_time": "2021-08-19T11:11:41.624068Z",
     "start_time": "2021-08-19T11:11:40.494850Z"
    }
   },
   "outputs": [],
   "source": [
    "sc.pp.highly_variable_genes(adata, n_top_genes = hvg_n_top_genes, span=0.7, flavor = 'seurat_v3')"
   ]
  },
  {
   "cell_type": "markdown",
   "metadata": {},
   "source": [
    "We can identify the index of the highly variable genes and store them inside adata for later use:"
   ]
  },
  {
   "cell_type": "code",
   "execution_count": 20,
   "metadata": {
    "ExecuteTime": {
     "end_time": "2021-08-19T11:11:41.628908Z",
     "start_time": "2021-08-19T11:11:41.625879Z"
    }
   },
   "outputs": [],
   "source": [
    "adata.uns['id_hvg'] = np.where(adata.var['highly_variable'])[0]"
   ]
  },
  {
   "cell_type": "code",
   "execution_count": 21,
   "metadata": {
    "ExecuteTime": {
     "end_time": "2021-08-19T11:11:41.634830Z",
     "start_time": "2021-08-19T11:11:41.630661Z"
    }
   },
   "outputs": [
    {
     "data": {
      "text/plain": [
       "array([    1,     2,     4, ..., 15195, 15196, 15197])"
      ]
     },
     "execution_count": 21,
     "metadata": {},
     "output_type": "execute_result"
    }
   ],
   "source": [
    "adata.uns['id_hvg']"
   ]
  },
  {
   "cell_type": "markdown",
   "metadata": {},
   "source": [
    "We can visualize the selected genes on mean-counts by variance plot:"
   ]
  },
  {
   "cell_type": "code",
   "execution_count": 22,
   "metadata": {
    "ExecuteTime": {
     "end_time": "2021-08-19T11:11:41.911814Z",
     "start_time": "2021-08-19T11:11:41.639247Z"
    },
    "tags": [
     "hvg"
    ]
   },
   "outputs": [
    {
     "data": {
      "image/png": "[encoded data removed]",
      "text/plain": [
       "<Figure size 432x432 with 1 Axes>"
      ]
     },
     "metadata": {
      "needs_background": "light"
     },
     "output_type": "display_data"
    }
   ],
   "source": [
    "x = np.log2(adata.var['means'] + 1)\n",
    "y = np.log2(adata.var['variances_norm'] + 1)\n",
    "\n",
    "fig, ax = plt.subplots(figsize=(6, 6))\n",
    "\n",
    "ax.scatter(x, y, s = 2)\n",
    "ax.scatter(x[adata.uns['id_hvg']], y[adata.uns['id_hvg']], s = 2, c = 'r')\n",
    "ax.set_xlabel('log2 mean expression')\n",
    "ax.set_ylabel('log2 normalized variance')\n",
    "ax.legend(['All genes', 'HVG'])\n",
    "\n",
    "plt.show()"
   ]
  },
  {
   "cell_type": "markdown",
   "metadata": {},
   "source": [
    "# Data Normalization"
   ]
  },
  {
   "cell_type": "markdown",
   "metadata": {},
   "source": [
    "We will perform median library size normalization followed by log transformation. This is the most common data normalization in scRNA-seq data analysis. "
   ]
  },
  {
   "cell_type": "markdown",
   "metadata": {},
   "source": [
    "Since most of our analysis will be on the log transformed data, we will reorganize some of the structure of adata. We will store log transformed data onto adata.X, while the raw counts and normalized counts will be stored as adata.layers."
   ]
  },
  {
   "cell_type": "code",
   "execution_count": 23,
   "metadata": {
    "ExecuteTime": {
     "end_time": "2021-08-19T11:11:42.187967Z",
     "start_time": "2021-08-19T11:11:41.913382Z"
    }
   },
   "outputs": [],
   "source": [
    "# Median library size normalization\n",
    "X_norm = sc.pp.normalize_total(adata, inplace = False)\n",
    "adata.layers['norm_data'] = X_norm['X']"
   ]
  },
  {
   "cell_type": "code",
   "execution_count": 24,
   "metadata": {
    "ExecuteTime": {
     "end_time": "2021-08-19T11:11:42.191819Z",
     "start_time": "2021-08-19T11:11:42.189547Z"
    }
   },
   "outputs": [],
   "source": [
    "adata.layers['raw_data'] = adata.X"
   ]
  },
  {
   "cell_type": "code",
   "execution_count": 25,
   "metadata": {
    "ExecuteTime": {
     "end_time": "2021-08-19T11:11:42.611709Z",
     "start_time": "2021-08-19T11:11:42.193477Z"
    }
   },
   "outputs": [],
   "source": [
    "# Log transformation\n",
    "if type(adata.layers['norm_data']) is sparse.csr.csr_matrix: \n",
    "    adata.X = np.log2(adata.layers['norm_data'].toarray() + 0.1) - np.log2(0.1)\n",
    "else:\n",
    "    adata.X = np.log2(adata.layers['norm_data'] + 0.1) - np.log2(0.1)"
   ]
  },
  {
   "cell_type": "code",
   "execution_count": 26,
   "metadata": {
    "ExecuteTime": {
     "end_time": "2021-08-19T11:11:42.617151Z",
     "start_time": "2021-08-19T11:11:42.613429Z"
    }
   },
   "outputs": [
    {
     "data": {
      "text/plain": [
       "AnnData object with n_obs × n_vars = 2593 × 15198\n",
       "    obs: 'n_genes_by_counts', 'log1p_n_genes_by_counts', 'total_counts', 'log1p_total_counts', 'pct_counts_in_top_50_genes', 'pct_counts_in_top_100_genes', 'pct_counts_in_top_200_genes', 'pct_counts_in_top_500_genes', 'mito_frac'\n",
       "    var: 'n_cells_by_counts', 'mean_counts', 'log1p_mean_counts', 'pct_dropout_by_counts', 'total_counts', 'log1p_total_counts', 'highly_variable', 'highly_variable_rank', 'means', 'variances', 'variances_norm'\n",
       "    uns: 'hvg', 'id_hvg'\n",
       "    layers: 'norm_data', 'raw_data'"
      ]
     },
     "execution_count": 26,
     "metadata": {},
     "output_type": "execute_result"
    }
   ],
   "source": [
    "adata"
   ]
  },
  {
   "cell_type": "markdown",
   "metadata": {},
   "source": [
    "# Dimensionality reduction"
   ]
  },
  {
   "cell_type": "markdown",
   "metadata": {},
   "source": [
    "## PCA"
   ]
  },
  {
   "cell_type": "markdown",
   "metadata": {},
   "source": [
    "We first perform PCA on the highly variable genes."
   ]
  },
  {
   "cell_type": "code",
   "execution_count": 27,
   "metadata": {
    "ExecuteTime": {
     "end_time": "2021-08-19T11:11:43.687973Z",
     "start_time": "2021-08-19T11:11:42.618652Z"
    }
   },
   "outputs": [],
   "source": [
    "sc.tl.pca(adata, n_comps = pca_n_comps, use_highly_variable = True)"
   ]
  },
  {
   "cell_type": "code",
   "execution_count": 28,
   "metadata": {
    "ExecuteTime": {
     "end_time": "2021-08-19T11:11:43.693445Z",
     "start_time": "2021-08-19T11:11:43.689600Z"
    }
   },
   "outputs": [
    {
     "data": {
      "text/plain": [
       "AnnData object with n_obs × n_vars = 2593 × 15198\n",
       "    obs: 'n_genes_by_counts', 'log1p_n_genes_by_counts', 'total_counts', 'log1p_total_counts', 'pct_counts_in_top_50_genes', 'pct_counts_in_top_100_genes', 'pct_counts_in_top_200_genes', 'pct_counts_in_top_500_genes', 'mito_frac'\n",
       "    var: 'n_cells_by_counts', 'mean_counts', 'log1p_mean_counts', 'pct_dropout_by_counts', 'total_counts', 'log1p_total_counts', 'highly_variable', 'highly_variable_rank', 'means', 'variances', 'variances_norm'\n",
       "    uns: 'hvg', 'id_hvg', 'pca'\n",
       "    obsm: 'X_pca'\n",
       "    varm: 'PCs'\n",
       "    layers: 'norm_data', 'raw_data'"
      ]
     },
     "execution_count": 28,
     "metadata": {},
     "output_type": "execute_result"
    }
   ],
   "source": [
    "adata"
   ]
  },
  {
   "cell_type": "markdown",
   "metadata": {},
   "source": [
    "As we can see, the principal components are stored in `adata.obsm['X_pca']`, the associated loadings are stored in `adata.varm['PCs']`, and the variance/variance-ratio explained by each components is saved in `adata.uns['pca']`."
   ]
  },
  {
   "cell_type": "code",
   "execution_count": 29,
   "metadata": {
    "ExecuteTime": {
     "end_time": "2021-08-19T11:11:43.814666Z",
     "start_time": "2021-08-19T11:11:43.695316Z"
    }
   },
   "outputs": [
    {
     "data": {
      "image/png": "[encoded data removed]",
      "text/plain": [
       "<Figure size 432x432 with 1 Axes>"
      ]
     },
     "metadata": {
      "needs_background": "light"
     },
     "output_type": "display_data"
    }
   ],
   "source": [
    "# Visualize variance explained:\n",
    "fig, ax = plt.subplots(figsize=(6, 6))\n",
    "\n",
    "ax.plot(\n",
    "    range(len(adata.uns['pca']['variance_ratio'])), \n",
    "    np.cumsum(adata.uns['pca']['variance_ratio']) * 100,\n",
    "    '.-'\n",
    ")\n",
    "ax.set_xlabel('Principal Component')\n",
    "ax.set_ylabel('% Variance Explained')\n",
    "\n",
    "plt.show()"
   ]
  },
  {
   "cell_type": "markdown",
   "metadata": {},
   "source": [
    "The above plot suggests that the top 50 principal components explain > 40% of the variance in the data."
   ]
  },
  {
   "cell_type": "markdown",
   "metadata": {},
   "source": [
    "## Nearest neighbors, UMAP"
   ]
  },
  {
   "cell_type": "markdown",
   "metadata": {},
   "source": [
    "We compute k-nearest neighbor graph on the computed PCA."
   ]
  },
  {
   "cell_type": "code",
   "execution_count": 30,
   "metadata": {
    "ExecuteTime": {
     "end_time": "2021-08-19T11:11:45.878784Z",
     "start_time": "2021-08-19T11:11:43.815880Z"
    }
   },
   "outputs": [],
   "source": [
    "sc.pp.neighbors(adata, n_neighbors = n_neighbors, use_rep = 'X_pca', random_state = 0)"
   ]
  },
  {
   "cell_type": "code",
   "execution_count": 31,
   "metadata": {
    "ExecuteTime": {
     "end_time": "2021-08-19T11:11:45.883648Z",
     "start_time": "2021-08-19T11:11:45.880237Z"
    }
   },
   "outputs": [
    {
     "data": {
      "text/plain": [
       "(15198, 50)"
      ]
     },
     "execution_count": 31,
     "metadata": {},
     "output_type": "execute_result"
    }
   ],
   "source": [
    "adata.varm[\"PCs\"].shape"
   ]
  },
  {
   "cell_type": "markdown",
   "metadata": {},
   "source": [
    "The output of the nearest neighbor graph is stored in `adata.obsp['distances']`: nearest neighbor distance graph - and `adata.obsp['connectivities']`: nearest neighbor affinity graph. "
   ]
  },
  {
   "cell_type": "markdown",
   "metadata": {},
   "source": [
    "We now can run UMAP on the computed nearest graph, which will be stored in `adata.obsm['X_umap']`."
   ]
  },
  {
   "cell_type": "code",
   "execution_count": 32,
   "metadata": {
    "ExecuteTime": {
     "end_time": "2021-08-19T11:11:50.505324Z",
     "start_time": "2021-08-19T11:11:45.885232Z"
    }
   },
   "outputs": [],
   "source": [
    "sc.tl.umap(adata, min_dist = 0.1)"
   ]
  },
  {
   "cell_type": "code",
   "execution_count": 33,
   "metadata": {
    "ExecuteTime": {
     "end_time": "2021-08-19T11:11:50.510404Z",
     "start_time": "2021-08-19T11:11:50.506774Z"
    }
   },
   "outputs": [
    {
     "data": {
      "text/plain": [
       "AnnData object with n_obs × n_vars = 2593 × 15198\n",
       "    obs: 'n_genes_by_counts', 'log1p_n_genes_by_counts', 'total_counts', 'log1p_total_counts', 'pct_counts_in_top_50_genes', 'pct_counts_in_top_100_genes', 'pct_counts_in_top_200_genes', 'pct_counts_in_top_500_genes', 'mito_frac'\n",
       "    var: 'n_cells_by_counts', 'mean_counts', 'log1p_mean_counts', 'pct_dropout_by_counts', 'total_counts', 'log1p_total_counts', 'highly_variable', 'highly_variable_rank', 'means', 'variances', 'variances_norm'\n",
       "    uns: 'hvg', 'id_hvg', 'pca', 'neighbors', 'umap'\n",
       "    obsm: 'X_pca', 'X_umap'\n",
       "    varm: 'PCs'\n",
       "    layers: 'norm_data', 'raw_data'\n",
       "    obsp: 'distances', 'connectivities'"
      ]
     },
     "execution_count": 33,
     "metadata": {},
     "output_type": "execute_result"
    }
   ],
   "source": [
    "adata"
   ]
  },
  {
   "cell_type": "markdown",
   "metadata": {},
   "source": [
    " ## Visualize some metadata onto UMAP"
   ]
  },
  {
   "cell_type": "code",
   "execution_count": 34,
   "metadata": {
    "ExecuteTime": {
     "end_time": "2021-08-19T11:11:50.515742Z",
     "start_time": "2021-08-19T11:11:50.511982Z"
    }
   },
   "outputs": [
    {
     "data": {
      "text/plain": [
       "AnnData object with n_obs × n_vars = 2593 × 15198\n",
       "    obs: 'n_genes_by_counts', 'log1p_n_genes_by_counts', 'total_counts', 'log1p_total_counts', 'pct_counts_in_top_50_genes', 'pct_counts_in_top_100_genes', 'pct_counts_in_top_200_genes', 'pct_counts_in_top_500_genes', 'mito_frac'\n",
       "    var: 'n_cells_by_counts', 'mean_counts', 'log1p_mean_counts', 'pct_dropout_by_counts', 'total_counts', 'log1p_total_counts', 'highly_variable', 'highly_variable_rank', 'means', 'variances', 'variances_norm'\n",
       "    uns: 'hvg', 'id_hvg', 'pca', 'neighbors', 'umap'\n",
       "    obsm: 'X_pca', 'X_umap'\n",
       "    varm: 'PCs'\n",
       "    layers: 'norm_data', 'raw_data'\n",
       "    obsp: 'distances', 'connectivities'"
      ]
     },
     "execution_count": 34,
     "metadata": {},
     "output_type": "execute_result"
    }
   ],
   "source": [
    "adata"
   ]
  },
  {
   "cell_type": "code",
   "execution_count": 35,
   "metadata": {
    "ExecuteTime": {
     "end_time": "2021-08-19T11:11:50.854045Z",
     "start_time": "2021-08-19T11:11:50.517382Z"
    }
   },
   "outputs": [
    {
     "data": {
      "image/png": "[encoded data removed]",
      "text/plain": [
       "<Figure size 989.28x576 with 6 Axes>"
      ]
     },
     "metadata": {
      "needs_background": "light"
     },
     "output_type": "display_data"
    }
   ],
   "source": [
    "fig = sc.pl.umap(adata, color = ['log1p_total_counts', 'log1p_n_genes_by_counts', 'mito_frac'], size = 30,\n",
    "           frameon = False, ncols = 2, return_fig = True)\n",
    "\n",
    "# Save figure:\n",
    "# fig.savefig(os.path.join(path_outdir, 'metadata_on_UMAP.png'), bbox_inches = 'tight', dpi = 150)"
   ]
  },
  {
   "cell_type": "markdown",
   "metadata": {},
   "source": [
    "# Cluster"
   ]
  },
  {
   "cell_type": "markdown",
   "metadata": {},
   "source": [
    "We now cluster the cells using PhenoGraph. The optimal `k` value will be found through `KOptimizer`."
   ]
  },
  {
   "cell_type": "code",
   "execution_count": 36,
   "metadata": {
    "ExecuteTime": {
     "end_time": "2021-08-19T11:11:50.857351Z",
     "start_time": "2021-08-19T11:11:50.855263Z"
    }
   },
   "outputs": [],
   "source": [
    "ks = np.arange(10, 77, 3)  # This is the range of k values we will look at"
   ]
  },
  {
   "cell_type": "code",
   "execution_count": 37,
   "metadata": {
    "ExecuteTime": {
     "end_time": "2021-08-19T11:12:05.989137Z",
     "start_time": "2021-08-19T11:11:50.858613Z"
    }
   },
   "outputs": [
    {
     "name": "stdout",
     "output_type": "stream",
     "text": [
      "Calculating for k: 10... Min. Rand Index is: 0.8113368300799582\n",
      "Calculating for k: 13.... Min. Rand Index is: 0.8045459935270606\n",
      "Calculating for k: 16.... Min. Rand Index is: 0.8113368300799582\n",
      "Calculating for k: 19.... Min. Rand Index is: 0.862377275654674\n",
      "Calculating for k: 22.... Min. Rand Index is: 0.905888999472776\n",
      "Discovered optimal k: 22\n",
      "Min. Rand Index for 22: 0.905888999472776\n"
     ]
    },
    {
     "data": {
      "image/png": "[encoded data removed]",
      "text/plain": [
       "<Figure size 576x576 with 2 Axes>"
      ]
     },
     "metadata": {
      "needs_background": "light"
     },
     "output_type": "display_data"
    }
   ],
   "source": [
    "koptimizer = KOptimizer()\n",
    "\n",
    "optimal_k = koptimizer.find_k(\n",
    "    data = adata.obsm['X_pca'], ks=ks, interval=3,\n",
    "    verbose=True, display=True\n",
    ")"
   ]
  },
  {
   "cell_type": "code",
   "execution_count": 38,
   "metadata": {
    "ExecuteTime": {
     "end_time": "2021-08-19T11:12:08.133887Z",
     "start_time": "2021-08-19T11:12:05.991364Z"
    }
   },
   "outputs": [
    {
     "name": "stdout",
     "output_type": "stream",
     "text": [
      "Finding 22 nearest neighbors using minkowski metric and 'auto' algorithm\n",
      "Neighbors computed in 0.2580845355987549 seconds\n",
      "Jaccard graph constructed in 0.31003904342651367 seconds\n",
      "Wrote graph to binary file in 0.14030241966247559 seconds\n",
      "Running Louvain modularity optimization\n",
      "After 1 runs, maximum modularity is Q = 0.889975\n",
      "Louvain completed 21 runs in 31.670328617095947 seconds\n",
      "Sorting communities by size, please wait ...\n",
      "PhenoGraph completed in 32.4999258518219 seconds\n"
     ]
    }
   ],
   "source": [
    "cluster, Q, graph = phenograph.cluster(adata.obsm['X_pca'], k = optimal_k)"
   ]
  },
  {
   "cell_type": "code",
   "execution_count": 39,
   "metadata": {
    "ExecuteTime": {
     "end_time": "2021-08-19T11:12:08.142443Z",
     "start_time": "2021-08-19T11:12:08.136844Z"
    }
   },
   "outputs": [],
   "source": [
    "adata.obs['Clusters'] = pd.Categorical(cluster)"
   ]
  },
  {
   "cell_type": "code",
   "execution_count": 40,
   "metadata": {
    "ExecuteTime": {
     "end_time": "2021-08-19T11:12:08.565247Z",
     "start_time": "2021-08-19T11:12:08.144526Z"
    },
    "tags": [
     "cluster"
    ]
   },
   "outputs": [
    {
     "data": {
      "image/png": "[encoded data removed]",
      "text/plain": [
       "<Figure size 432x288 with 1 Axes>"
      ]
     },
     "metadata": {},
     "output_type": "display_data"
    }
   ],
   "source": [
    "fig = sc.pl.umap(adata, color = ['Clusters'], size = 50, frameon = False, return_fig = True)\n",
    "\n",
    "# Save figure:\n",
    "# fig.savefig(os.path.join(path_outdir, 'clusters_on_UMAP.png'), bbox_inches = 'tight', dpi = 150)"
   ]
  },
  {
   "cell_type": "markdown",
   "metadata": {},
   "source": [
    "# Write h5ad to Disk"
   ]
  },
  {
   "cell_type": "code",
   "execution_count": 41,
   "metadata": {
    "ExecuteTime": {
     "end_time": "2021-08-19T11:12:09.429048Z",
     "start_time": "2021-08-19T11:12:08.566810Z"
    }
   },
   "outputs": [],
   "source": [
    "adata.write_h5ad(\n",
    "    os.path.join(path_outdir, f\"{sample_name}_normalized.h5ad\")\n",
    ")"
   ]
  },
  {
   "cell_type": "code",
   "execution_count": null,
   "metadata": {},
   "outputs": [],
   "source": []
  }
 ],
 "metadata": {
  "kernelspec": {
   "display_name": "Python 3 (ipykernel)",
   "language": "python",
   "name": "python3"
  },
  "language_info": {
   "codemirror_mode": {
    "name": "ipython",
    "version": 3
   },
   "file_extension": ".py",
   "mimetype": "text/x-python",
   "name": "python",
   "nbconvert_exporter": "python",
   "pygments_lexer": "ipython3",
   "version": "3.8.10"
  },
  "toc": {
   "base_numbering": 1,
   "nav_menu": {},
   "number_sections": true,
   "sideBar": true,
   "skip_h1_title": false,
   "title_cell": "Table of Contents",
   "title_sidebar": "Contents",
   "toc_cell": false,
   "toc_position": {},
   "toc_section_display": true,
   "toc_window_display": true
  }
 },
 "nbformat": 4,
 "nbformat_minor": 4
}
