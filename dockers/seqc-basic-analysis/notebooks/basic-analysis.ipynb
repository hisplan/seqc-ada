{
 "cells": [
  {
   "cell_type": "markdown",
   "metadata": {},
   "source": [
    "# Import"
   ]
  },
  {
   "cell_type": "code",
   "execution_count": 1,
   "metadata": {
    "ExecuteTime": {
     "end_time": "2021-07-08T16:55:03.552838Z",
     "start_time": "2021-07-08T16:55:01.173709Z"
    }
   },
   "outputs": [],
   "source": [
    "import numpy as np\n",
    "import pandas as pd\n",
    "import scanpy as sc"
   ]
  },
  {
   "cell_type": "code",
   "execution_count": 2,
   "metadata": {
    "ExecuteTime": {
     "end_time": "2021-07-08T16:55:04.679062Z",
     "start_time": "2021-07-08T16:55:03.555329Z"
    }
   },
   "outputs": [
    {
     "name": "stdout",
     "output_type": "stream",
     "text": [
      "scanpy==1.6.0 anndata==0.7.4 umap==0.4.6 numpy==1.19.2 scipy==1.5.2 pandas==1.2.4 scikit-learn==0.23.2 statsmodels==0.11.1 python-igraph==0.8.3 leidenalg==0.8.2\n"
     ]
    }
   ],
   "source": [
    "sc.settings.verbosity = 3             # verbosity: errors (0), warnings (1), info (2), hints (3)\n",
    "sc.logging.print_header()\n",
    "sc.settings.set_figure_params(dpi=80, facecolor='white')"
   ]
  },
  {
   "cell_type": "markdown",
   "metadata": {},
   "source": [
    "# Parameters"
   ]
  },
  {
   "cell_type": "code",
   "execution_count": 3,
   "metadata": {
    "ExecuteTime": {
     "end_time": "2021-07-08T16:55:04.682524Z",
     "start_time": "2021-07-08T16:55:04.680589Z"
    },
    "tags": [
     "parameters"
    ]
   },
   "outputs": [],
   "source": [
    "# This parameters cell will be overridden by values specified at execution time.\n",
    "path_raw_adata = \"../test/test.raw.h5ad\"\n",
    "path_filtered_adata = \"../test/test.filtered.h5ad\""
   ]
  },
  {
   "cell_type": "markdown",
   "metadata": {},
   "source": [
    "# Load"
   ]
  },
  {
   "cell_type": "code",
   "execution_count": 4,
   "metadata": {
    "ExecuteTime": {
     "end_time": "2021-07-08T16:55:04.786965Z",
     "start_time": "2021-07-08T16:55:04.683982Z"
    }
   },
   "outputs": [
    {
     "name": "stderr",
     "output_type": "stream",
     "text": [
      "Variable names are not unique. To make them unique, call `.var_names_make_unique`.\n"
     ]
    }
   ],
   "source": [
    "adata_raw = sc.read_h5ad(path_raw_adata)"
   ]
  },
  {
   "cell_type": "code",
   "execution_count": 5,
   "metadata": {
    "ExecuteTime": {
     "end_time": "2021-07-08T16:55:04.794027Z",
     "start_time": "2021-07-08T16:55:04.788400Z"
    }
   },
   "outputs": [
    {
     "data": {
      "text/plain": [
       "AnnData object with n_obs × n_vars = 5941 × 1347\n",
       "    layers: 'read_counts'"
      ]
     },
     "execution_count": 5,
     "metadata": {},
     "output_type": "execute_result"
    }
   ],
   "source": [
    "adata_raw"
   ]
  },
  {
   "cell_type": "code",
   "execution_count": 6,
   "metadata": {
    "ExecuteTime": {
     "end_time": "2021-07-08T16:55:04.811517Z",
     "start_time": "2021-07-08T16:55:04.795398Z"
    }
   },
   "outputs": [],
   "source": [
    "adata_filtered = sc.read_h5ad(path_filtered_adata)"
   ]
  },
  {
   "cell_type": "code",
   "execution_count": 7,
   "metadata": {
    "ExecuteTime": {
     "end_time": "2021-07-08T16:55:04.818230Z",
     "start_time": "2021-07-08T16:55:04.814239Z"
    }
   },
   "outputs": [
    {
     "data": {
      "text/plain": [
       "AnnData object with n_obs × n_vars = 1087 × 1320"
      ]
     },
     "execution_count": 7,
     "metadata": {},
     "output_type": "execute_result"
    }
   ],
   "source": [
    "adata_filtered"
   ]
  },
  {
   "cell_type": "code",
   "execution_count": 8,
   "metadata": {
    "ExecuteTime": {
     "end_time": "2021-07-08T16:55:04.830513Z",
     "start_time": "2021-07-08T16:55:04.820317Z"
    }
   },
   "outputs": [
    {
     "data": {
      "text/html": [
       "<div>\n",
       "<style scoped>\n",
       "    .dataframe tbody tr th:only-of-type {\n",
       "        vertical-align: middle;\n",
       "    }\n",
       "\n",
       "    .dataframe tbody tr th {\n",
       "        vertical-align: top;\n",
       "    }\n",
       "\n",
       "    .dataframe thead th {\n",
       "        text-align: right;\n",
       "    }\n",
       "</style>\n",
       "<table border=\"1\" class=\"dataframe\">\n",
       "  <thead>\n",
       "    <tr style=\"text-align: right;\">\n",
       "      <th></th>\n",
       "    </tr>\n",
       "  </thead>\n",
       "  <tbody>\n",
       "    <tr>\n",
       "      <th>120703436113835</th>\n",
       "    </tr>\n",
       "    <tr>\n",
       "      <th>120703436351717</th>\n",
       "    </tr>\n",
       "    <tr>\n",
       "      <th>120726897253220</th>\n",
       "    </tr>\n",
       "    <tr>\n",
       "      <th>120769892956524</th>\n",
       "    </tr>\n",
       "    <tr>\n",
       "      <th>120778570709861</th>\n",
       "    </tr>\n",
       "    <tr>\n",
       "      <th>...</th>\n",
       "    </tr>\n",
       "    <tr>\n",
       "      <th>240695043287403</th>\n",
       "    </tr>\n",
       "    <tr>\n",
       "      <th>241030031863077</th>\n",
       "    </tr>\n",
       "    <tr>\n",
       "      <th>241038756308851</th>\n",
       "    </tr>\n",
       "    <tr>\n",
       "      <th>241038775465902</th>\n",
       "    </tr>\n",
       "    <tr>\n",
       "      <th>241184489491892</th>\n",
       "    </tr>\n",
       "  </tbody>\n",
       "</table>\n",
       "<p>1087 rows × 0 columns</p>\n",
       "</div>"
      ],
      "text/plain": [
       "Empty DataFrame\n",
       "Columns: []\n",
       "Index: [120703436113835, 120703436351717, 120726897253220, 120769892956524, 120778570709861, 120786772708766, 120786785585382, 120847156329782, 120847183865635, 120850243079029, 120864470153077, 120864470846774, 120864517020020, 121184472749869, 121184472917750, 121184473206067, 121184491563892, 121254253808870, 121322602150118, 121338689382621, 121390228196206, 121390228461875, 121390247078133, 121399087085469, 121405233388765, 121405260549478, 121408857455526, 121408904150365, 121416401508645, 121731934448436, 121735006239142, 121735052913565, 121735053163244, 121748858460085, 121751112403749, 121802832366365, 121829764483819, 121829792017259, 121869136681755, 121886404209461, 121886431721846, 121887343459556, 121887343696174, 121887389866844, 121889787402534, 121889806276452, 121940405509549, 121946427057907, 121963862219045, 121963862473526, 121963875067766, 122283716361118, 122307606604518, 122352288786660, 122369602599790, 122369615711526, 122378446060963, 122378473327350, 122379432324395, 122444884397294, 122444899071790, 122444930730726, 122487982413732, 122487982902005, 122487995525548, 122490813900636, 122499672722739, 122505040718190, 122505060280734, 125050586880308, 125102575250158, 125127896251819, 125127923547486, 125168041999203, 125236613364981, 125257147968806, 125583592897334, 125583593461685, 125583612308844, 125744627017957, 125744641629422, 125745297800542, 125745298258867, 125746505768347, 125786529905509, 125804803143918, 126150279322404, 126150279555868, 126201906809268, 126201952877404, 126201953414068, 126216026634982, 126224455658283, 126224469965548, 126224483072806, 126227570092907, 126268613217189, 126268640454900, 126278169487726, 126278188584347, ...]\n",
       "\n",
       "[1087 rows x 0 columns]"
      ]
     },
     "execution_count": 8,
     "metadata": {},
     "output_type": "execute_result"
    }
   ],
   "source": [
    "adata_filtered.obs"
   ]
  },
  {
   "cell_type": "code",
   "execution_count": 9,
   "metadata": {
    "ExecuteTime": {
     "end_time": "2021-07-08T16:55:04.839602Z",
     "start_time": "2021-07-08T16:55:04.832073Z"
    }
   },
   "outputs": [
    {
     "data": {
      "text/html": [
       "<div>\n",
       "<style scoped>\n",
       "    .dataframe tbody tr th:only-of-type {\n",
       "        vertical-align: middle;\n",
       "    }\n",
       "\n",
       "    .dataframe tbody tr th {\n",
       "        vertical-align: top;\n",
       "    }\n",
       "\n",
       "    .dataframe thead th {\n",
       "        text-align: right;\n",
       "    }\n",
       "</style>\n",
       "<table border=\"1\" class=\"dataframe\">\n",
       "  <thead>\n",
       "    <tr style=\"text-align: right;\">\n",
       "      <th></th>\n",
       "    </tr>\n",
       "  </thead>\n",
       "  <tbody>\n",
       "    <tr>\n",
       "      <th>ARHGAP33</th>\n",
       "    </tr>\n",
       "    <tr>\n",
       "      <th>UPF1</th>\n",
       "    </tr>\n",
       "    <tr>\n",
       "      <th>SPPL2B</th>\n",
       "    </tr>\n",
       "    <tr>\n",
       "      <th>C19ORF60</th>\n",
       "    </tr>\n",
       "    <tr>\n",
       "      <th>TBXA2R</th>\n",
       "    </tr>\n",
       "    <tr>\n",
       "      <th>...</th>\n",
       "    </tr>\n",
       "    <tr>\n",
       "      <th>WASH5P</th>\n",
       "    </tr>\n",
       "    <tr>\n",
       "      <th>LINC01002</th>\n",
       "    </tr>\n",
       "    <tr>\n",
       "      <th>AC008993.2</th>\n",
       "    </tr>\n",
       "    <tr>\n",
       "      <th>BISPR</th>\n",
       "    </tr>\n",
       "    <tr>\n",
       "      <th>LLNLR-245B6.1</th>\n",
       "    </tr>\n",
       "  </tbody>\n",
       "</table>\n",
       "<p>1320 rows × 0 columns</p>\n",
       "</div>"
      ],
      "text/plain": [
       "Empty DataFrame\n",
       "Columns: []\n",
       "Index: [ARHGAP33, UPF1, SPPL2B, C19ORF60, TBXA2R, PAF1, MARK4, CCDC124, CEACAM21, TRAPPC6A, MATK, MPND, NFIX, GIPR, FUZ, APBA3, AKAP8L, PTBP1, PLAUR, WIZ, QPCTL, PPP5C, ZBTB32, TYROBP, ERCC1, CD22, PSMC4, ZNF582, NLRP2, POU2F2, RANBP3, PNPLA6, MRI1, PNKP, AP2S1, HOMER3, USE1, GNA15, SLC6A16, GLTSCR1, SPHK2, RPL18, CA11, ISOC2, U2AF2, EPN1, MED29, RFXANK, TMEM161A, LPAR2, SUGP2, CNN2, ABCA7, SBNO2, HMG20B, AP3D1, WDR18, TLE2, PDE4A, ELAVL1, SIRT2, BCL3, FGF22, FSTL3, RNF126, TCF3, DAZAP1, MBD3, PRKACA, ADGRL1, TMEM38A, AP1M1, PVR, XRCC1, TEAD2, MYDGF, ANO8, WDR62, GPATCH1, ICAM3, XAB2, ARHGEF1, STXBP2, MAP2K7, SNRPA, EXOSC5, SIRT6, REXO1, CEACAM1, CIC, LIPE, PAFAH1B3, DNM2, KEAP1, ZNF506, SLC27A5, ZNF324, ZNF671, ZNF586, ZNF446, ...]\n",
       "\n",
       "[1320 rows x 0 columns]"
      ]
     },
     "execution_count": 9,
     "metadata": {},
     "output_type": "execute_result"
    }
   ],
   "source": [
    "adata_filtered.var"
   ]
  },
  {
   "cell_type": "code",
   "execution_count": null,
   "metadata": {},
   "outputs": [],
   "source": []
  }
 ],
 "metadata": {
  "kernelspec": {
   "display_name": "Python 3",
   "language": "python",
   "name": "python3"
  },
  "language_info": {
   "codemirror_mode": {
    "name": "ipython",
    "version": 3
   },
   "file_extension": ".py",
   "mimetype": "text/x-python",
   "name": "python",
   "nbconvert_exporter": "python",
   "pygments_lexer": "ipython3",
   "version": "3.7.7"
  },
  "toc": {
   "base_numbering": 1,
   "nav_menu": {},
   "number_sections": true,
   "sideBar": true,
   "skip_h1_title": false,
   "title_cell": "Table of Contents",
   "title_sidebar": "Contents",
   "toc_cell": false,
   "toc_position": {},
   "toc_section_display": true,
   "toc_window_display": false
  }
 },
 "nbformat": 4,
 "nbformat_minor": 5
}
